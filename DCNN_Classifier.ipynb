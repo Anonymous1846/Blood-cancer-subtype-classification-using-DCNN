{
  "nbformat": 4,
  "nbformat_minor": 0,
  "metadata": {
    "colab": {
      "provenance": [],
      "include_colab_link": true
    },
    "kernelspec": {
      "display_name": "Python 3",
      "name": "python3"
    },
    "accelerator": "GPU",
    "gpuClass": "standard"
  },
  "cells": [
    {
      "cell_type": "markdown",
      "metadata": {
        "id": "view-in-github",
        "colab_type": "text"
      },
      "source": [
        "<a href=\"https://colab.research.google.com/github/Anonymous1846/Blood-cancer-subtype-classification-using-DCNN/blob/master/DCNN_Classifier.ipynb\" target=\"_parent\"><img src=\"https://colab.research.google.com/assets/colab-badge.svg\" alt=\"Open In Colab\"/></a>"
      ]
    },
    {
      "cell_type": "markdown",
      "metadata": {
        "id": "bz8z3s6bmZ-L"
      },
      "source": [
        "# **Problem Statement**"
      ]
    },
    {
      "cell_type": "code",
      "metadata": {
        "colab": {
          "base_uri": "https://localhost:8080/"
        },
        "id": "A7XLGtoAl0zO",
        "outputId": "575e9c1f-517a-477d-d3d3-6765165b6dc8"
      },
      "source": [
        "'''\n",
        "Problems Statement : Building a set of multiclass classifiers for luekemia prediction using the CNN and pretrained networks.\n",
        "                     The dataset as of now is obtained from the ALL-IDB1 and ALL-IDB2 and the ASH website.Blood cancer is a \n",
        "                     type of cancer that affects blood cells and is caused by DNA mutations. It can be difficult to identify \n",
        "                     and is often detected when blood cells begin to behave abnormally. Machine learning algorithms and manual \n",
        "                     image processing techniques have been used to extract key information about cancer cells. The proposed \n",
        "                     system uses advanced Convolutional Neural Network algorithms and a user-friendly interface to predict the \n",
        "                     subtype of cancer,and transfer learning and fine tuning methods are used to improve the performance of the \n",
        "                     CNN models.This system can aid in early cancer detection and therapy.\n",
        "''' \n",
        "\n",
        "import keras          #to check version, some APIs may not work in newer versions!\n",
        "print(keras.__version__)"
      ],
      "execution_count": 1,
      "outputs": [
        {
          "output_type": "stream",
          "name": "stdout",
          "text": [
            "2.9.0\n"
          ]
        }
      ]
    },
    {
      "cell_type": "markdown",
      "metadata": {
        "id": "Q_JFZFFZFzII"
      },
      "source": [
        "# **Loading The Dataset From Google Drive.**"
      ]
    },
    {
      "cell_type": "code",
      "metadata": {
        "id": "fm-5FTeSxHP4",
        "colab": {
          "base_uri": "https://localhost:8080/"
        },
        "outputId": "ad8083e0-d588-47bc-c78f-7c179fce7341"
      },
      "source": [
        "'''\n",
        "This is an optional block of code which can be executed if the \n",
        "google drive needs to be mounted on different account\n",
        "'''\n",
        "\n",
        "from google.colab import drive\n",
        "drive.mount('/content/drive',force_remount=False)"
      ],
      "execution_count": 2,
      "outputs": [
        {
          "output_type": "stream",
          "name": "stdout",
          "text": [
            "Mounted at /content/drive\n"
          ]
        }
      ]
    },
    {
      "cell_type": "markdown",
      "metadata": {
        "id": "1hHkfosbhCO-"
      },
      "source": [
        "#**The Path To Training, Validation and Testing Datasets**"
      ]
    },
    {
      "cell_type": "code",
      "metadata": {
        "colab": {
          "base_uri": "https://localhost:8080/"
        },
        "id": "ZNvpvCN5TJqy",
        "outputId": "bf52e69b-51ca-4589-e354-82935caffa15"
      },
      "source": [
        "import os \n",
        "'''\n",
        "The Images required for the training, validation, and testing is found in the /DCNN Datasets directory !\n",
        "\n",
        "DCNN Datasets\n",
        "|\n",
        "|\n",
        "|\n",
        " ---- Training(80 %)\n",
        "      |\n",
        "      |\n",
        "      ----Normal \n",
        "      |\n",
        "      ----ALL\n",
        "      |\n",
        "      ----AML\n",
        "      |\n",
        "      ----CLL\n",
        "      |\n",
        "      ----CML\n",
        "|\n",
        "|\n",
        "---- Validation (10 %)\n",
        "      |\n",
        "      |\n",
        "      ----Normal \n",
        "      |\n",
        "      ----ALL\n",
        "      |\n",
        "      ----AML\n",
        "      |\n",
        "      ----CLL\n",
        "      |\n",
        "      ----CML\n",
        "|\n",
        "|\n",
        "---- Testing (10 %)\n",
        "      |\n",
        "      |\n",
        "      ----Normal \n",
        "      |\n",
        "      ----ALL\n",
        "      |\n",
        "      ----AML\n",
        "      |\n",
        "      ----CLL\n",
        "      |\n",
        "      ----CML\n",
        "\n",
        "      The images/dataset is divided into 80% training, 10% testing and 10% validation\n",
        "'''\n",
        "\n",
        "training_data_path    = \"/content/drive/MyDrive/DCNN Datasets_1/Training\"\n",
        "validation_data_path  = \"/content/drive/MyDrive/DCNN Datasets_1/Validation\"\n",
        "testing_data_path     = \"/content/drive/MyDrive/DCNN Datasets_1/Testing\"\n",
        "\n",
        "print(f'The Training Images Path   :  {training_data_path}')\n",
        "print(f'The Validation Images Path :  {validation_data_path}')\n",
        "print(f'The Testing Images Path    :  {testing_data_path}')\n"
      ],
      "execution_count": 3,
      "outputs": [
        {
          "output_type": "stream",
          "name": "stdout",
          "text": [
            "The Training Images Path   :  /content/drive/MyDrive/DCNN Datasets_1/Training\n",
            "The Validation Images Path :  /content/drive/MyDrive/DCNN Datasets_1/Validation\n",
            "The Testing Images Path    :  /content/drive/MyDrive/DCNN Datasets_1/Testing\n"
          ]
        }
      ]
    },
    {
      "cell_type": "code",
      "source": [
        "CATEGORIES = 5 #indicating normal, ALL, AML, CLL, CML."
      ],
      "metadata": {
        "id": "6crVs2N2O42e"
      },
      "execution_count": 4,
      "outputs": []
    },
    {
      "cell_type": "markdown",
      "source": [
        "# **Current Model**"
      ],
      "metadata": {
        "id": "2sEG6O7g-YaR"
      }
    },
    {
      "cell_type": "code",
      "source": [
        "architecture ='ResNet'            #the current model to be trained/tested"
      ],
      "metadata": {
        "id": "4hO_YMP1-X-E"
      },
      "execution_count": null,
      "outputs": []
    },
    {
      "cell_type": "markdown",
      "metadata": {
        "id": "9yT7JaUnVPpU"
      },
      "source": [
        "# **Image Preprocessing Module for Custom and Pre-Trained Models**"
      ]
    },
    {
      "cell_type": "code",
      "metadata": {
        "id": "qPeiTL-oVTay"
      },
      "source": [
        "from keras.applications.inception_v3 import preprocess_input as inception_preprocess\n",
        "from keras.applications.efficientnet import preprocess_input as effnet_preprocess\n",
        "from keras.applications.vgg16 import preprocess_input as vgg_preprocess\n",
        "from keras.applications.resnet import preprocess_input as resnet_preprocess\n",
        "\n",
        "from keras.preprocessing.image import ImageDataGenerator\n",
        "\n",
        "def image_preprocess(architecture='Custom'):\n",
        "\n",
        "  \"\"\"\n",
        "  Preprocess an image for use with a CNN model.\n",
        "\n",
        "  Parameters:\n",
        "  - architetcure (str): Path to the image file\n",
        "  - target_size (tuple): Desired size of the preprocessed image, in the format (height, width). Default is (224, 224).\n",
        "\n",
        "  Returns:\n",
        "  - numpy.ndarray: Preprocessed image, in the format (batch_size, height, width, channels).\n",
        "\n",
        "  Raises:\n",
        "  - ValueError: If the image file cannot be read or if the image size is not equal to `target_size`.\n",
        "  \"\"\"\n",
        "\n",
        "  if architecture == 'ResNet':\n",
        "    training_images_preprocessed=ImageDataGenerator(preprocessing_function=resnet_preprocess)\n",
        "    validate_images_preprocessed = ImageDataGenerator(preprocessing_function=resnet_preprocess)\n",
        "  elif architecture == 'VGG':\n",
        "    training_images_preprocessed = ImageDataGenerator(preprocessing_function=vgg_preprocess)\n",
        "    validate_images_preprocessed = ImageDataGenerator(preprocessing_function=vgg_preprocess)\n",
        "  elif architecture == 'InceptionV3':\n",
        "    training_images_preprocessed=ImageDataGenerator(preprocessing_function=inception_preprocess)\n",
        "    validate_images_preprocessed = ImageDataGenerator(preprocessing_function=inception_preprocess)\n",
        "  elif architecture == 'EffNet':\n",
        "    training_images_preprocessed=ImageDataGenerator(preprocessing_function=effnet_preprocess)\n",
        "    validate_images_preprocessed = ImageDataGenerator(preprocessing_function=effnet_preprocess)\n",
        "  else:\n",
        "    training_images_preprocessed = ImageDataGenerator(rescale=1./255,\n",
        "                                                        rotation_range=40,\n",
        "                                                        width_shift_range=0.2,\n",
        "                                                        height_shift_range=0.2,\n",
        "                                                        shear_range=0.2,\n",
        "                                                        zoom_range=0.2,\n",
        "                                                        horizontal_flip=True,\n",
        "                                                        vertical_flip=True,\n",
        "                                                        fill_mode='nearest')\n",
        "    validate_images_preprocessed = ImageDataGenerator(rescale=1./255)\n",
        "  return training_images_preprocessed,validate_images_preprocessed"
      ],
      "execution_count": 38,
      "outputs": []
    },
    {
      "cell_type": "markdown",
      "source": [
        "# **Model Dictionary for Storing Image Diemensions**"
      ],
      "metadata": {
        "id": "MfDyTPqwV8RF"
      }
    },
    {
      "cell_type": "code",
      "metadata": {
        "id": "3DCGcbxQ09wm"
      },
      "source": [
        "'''\n",
        "For the purpose of setting the image diemensions for training the models we have assigned\n",
        "key-value pairs for model:(width,height) so that the appropriate model gets appropriate\n",
        "diemensions.\n",
        "'''\n",
        "\n",
        "model_dict = {'AlexNet':(227,227),\n",
        "              'Custom':(300,300),\n",
        "              'ResNet':(224,224),\n",
        "              'VGG 16':(224,224),\n",
        "              'InceptionV3':(139,139)}"
      ],
      "execution_count": 7,
      "outputs": []
    },
    {
      "cell_type": "markdown",
      "metadata": {
        "id": "xGPm_71JXPeC"
      },
      "source": [
        "# **Applying the Image Augmentation to Datasets !**"
      ]
    },
    {
      "cell_type": "code",
      "metadata": {
        "colab": {
          "base_uri": "https://localhost:8080/"
        },
        "id": "G9G6VPiSXVsR",
        "outputId": "5a9edcd5-4802-47f4-a88b-9ffd38bc7142"
      },
      "source": [
        "def apply_augmentation(data_directory,processing_mode,flag):\n",
        "  '''\n",
        "    The function augments the data, according to the processing mode.\n",
        "    The processing mode has defined earlier seperately for training and validation set !\n",
        "\n",
        "    params: training/validation directory,\n",
        "            the processing mode(different for training and validation dataset), \n",
        "            flag for model !\n",
        "\n",
        "    return: augmented data \n",
        "  '''\n",
        "  data_gen = processing_mode.flow_from_directory(\n",
        "  data_directory,                               \n",
        "  target_size = model_dict[flag],               \n",
        "  batch_size = 128,                             \n",
        "  class_mode='categorical')\n",
        "  print(f'Image Shape : {model_dict[flag]}')\n",
        "  return data_gen\n",
        "\n",
        "\n",
        "training_images_datagen = apply_augmentation(training_data_path,            \n",
        "                                             training_images_preprocessed,  \n",
        "                                             architecture)                  \n",
        "\n",
        "valid_images_datagen = apply_augmentation(validation_data_path,             \n",
        "                                          validate_images_preprocessed,\n",
        "                                          architecture)\n",
        "\n",
        "test_images_datagen = apply_augmentation(testing_data_path,                 \n",
        "                                         validate_images_preprocessed,\n",
        "                                         architecture)\n",
        "\n",
        "print(training_images_datagen.class_indices)          #class indices may give idea of the indices of corresponding cells\n"
      ],
      "execution_count": 8,
      "outputs": [
        {
          "output_type": "stream",
          "name": "stderr",
          "text": [
            "/usr/local/lib/python3.8/dist-packages/keras/preprocessing/image.py:193: UserWarning: Using \".tiff\" files with multiple bands will cause distortion. Please verify your output.\n",
            "  warnings.warn('Using \".tiff\" files with multiple bands '\n"
          ]
        },
        {
          "output_type": "stream",
          "name": "stdout",
          "text": [
            "Found 1126 images belonging to 5 classes.\n",
            "Image Shape : (224, 224)\n",
            "Found 143 images belonging to 5 classes.\n",
            "Image Shape : (224, 224)\n",
            "Found 135 images belonging to 5 classes.\n",
            "Image Shape : (224, 224)\n",
            "{'ALL': 0, 'AML': 1, 'CLL': 2, 'CML': 3, 'Normal': 4}\n"
          ]
        }
      ]
    },
    {
      "cell_type": "markdown",
      "metadata": {
        "id": "lbC-FfxiDtCO"
      },
      "source": [
        "#**Using the mean pixel we have calculated the number of features !**"
      ]
    },
    {
      "cell_type": "code",
      "metadata": {
        "id": "wtkmIsQNDssN",
        "colab": {
          "base_uri": "https://localhost:8080/"
        },
        "outputId": "1fdf0cae-2867-4c2a-8808-6b30e3aa7b30"
      },
      "source": [
        "from cv2 import imread\n",
        "\n",
        "sample_image = imread('/content/drive/MyDrive/DCNN Datasets/Training/CLL/61676-CLL cells with cytoplasmic vacuoles.Jpeg')\n",
        "print(\"The diemensions of the cancer cell: {}\".format(sample_image.shape))\n",
        "feature_matrix = np.zeros((sample_image.shape[0], sample_image.shape[1])) # for cancer cell\n",
        "\n",
        "\n",
        "def show_features(feature_matrix,img):\n",
        "  '''\n",
        "    The function will calculate the mean pixels values which are essential in understanding the number of possible \n",
        "    values/ features in the image !\n",
        "\n",
        "    params: fetaure matrix, image\n",
        "\n",
        "    return: None\n",
        "  '''\n",
        "  for i in range(1,img.shape[0]):\n",
        "    for j in range(1,img.shape[1]):\n",
        "        feature_matrix[i][j] = ((int(img[i,j,0]) + int(img[i,j,1]) + int(img[i,j,2]))/3) # mean for three channels !\n",
        "\n",
        "  features = np.reshape(feature_matrix, (img.shape[0]*img.shape[1])) \n",
        "  print(\"The mean pixels values for the cancer cells: {}\".format(features.shape[0]))\n",
        "\n",
        "show_features(feature_matrix,sample_image) # for cancer cell \n"
      ],
      "execution_count": null,
      "outputs": [
        {
          "output_type": "stream",
          "name": "stdout",
          "text": [
            "The diemensions of the cancer cell: (784, 1000, 3)\n",
            "The mean pixels values for the cancer cells: 784000\n"
          ]
        }
      ]
    },
    {
      "cell_type": "markdown",
      "metadata": {
        "id": "psRQ77sbYuqN"
      },
      "source": [
        "# **Representation of Images.**"
      ]
    },
    {
      "cell_type": "code",
      "metadata": {
        "colab": {
          "base_uri": "https://localhost:8080/",
          "height": 312
        },
        "id": "W3oV8CEwY6p8",
        "outputId": "6afa137c-8441-490c-a76c-3c58b2d1071c"
      },
      "source": [
        "import matplotlib.pyplot as plt \n",
        "def plot(image):\n",
        "  '''\n",
        "    The function is used to plot the augmented figures of the images, for visual demonstartion !\n",
        "\n",
        "    params: image object\n",
        "    return: None\n",
        "  '''\n",
        "  fig,axes=plt.subplots(1,5,figsize=(20,20))    # 20 x 20 images \n",
        "  axes=axes.flatten()\n",
        "  for imag,axis in zip(image,axes):              #iterate through the images matplotlib and cv2\n",
        "    axis.imshow(imag)\n",
        "  plt.tight_layout()\n",
        "  plt.show()\n",
        "\n",
        "training_images_datagen.class_indices\n",
        "sample_images=[training_images_datagen[0][0][0] for i in range(5)]\n",
        "plot(sample_images)"
      ],
      "execution_count": null,
      "outputs": [
        {
          "output_type": "stream",
          "name": "stderr",
          "text": [
            "WARNING:matplotlib.image:Clipping input data to the valid range for imshow with RGB data ([0..1] for floats or [0..255] for integers).\n",
            "WARNING:matplotlib.image:Clipping input data to the valid range for imshow with RGB data ([0..1] for floats or [0..255] for integers).\n",
            "WARNING:matplotlib.image:Clipping input data to the valid range for imshow with RGB data ([0..1] for floats or [0..255] for integers).\n",
            "WARNING:matplotlib.image:Clipping input data to the valid range for imshow with RGB data ([0..1] for floats or [0..255] for integers).\n",
            "WARNING:matplotlib.image:Clipping input data to the valid range for imshow with RGB data ([0..1] for floats or [0..255] for integers).\n"
          ]
        },
        {
          "output_type": "display_data",
          "data": {
            "text/plain": [
              "<Figure size 1440x1440 with 5 Axes>"
            ],
            "image/png": "[encoded data removed]"
          },
          "metadata": {
            "needs_background": "light"
          }
        }
      ]
    },
    {
      "cell_type": "code",
      "source": [
        "from keras.layers import MaxPooling2D,Conv2D,Dropout,Dense,Flatten,BatchNormalization,MaxPool2D,AveragePooling2D,GlobalAveragePooling2D\n",
        "from keras.models import Sequential"
      ],
      "metadata": {
        "id": "mSoEHjz8dZW7"
      },
      "execution_count": 10,
      "outputs": []
    },
    {
      "cell_type": "markdown",
      "metadata": {
        "id": "6ExfBhm4YE0f"
      },
      "source": [
        "# **Multiclass Test Classifier !**"
      ]
    },
    {
      "cell_type": "code",
      "metadata": {
        "id": "66QFUFr1YNlW"
      },
      "source": [
        "'''\n",
        "The CNN model is used to predict whether the given data image is of ALL,AML,CLL,CML or Normal type,\n",
        "it contains 5 convolution and corresponding number of maxpooling layers.\n",
        "RelU function is added to each layer so that it can introduce non-linearity and \n",
        "avoid the negative values !\n",
        "'''\n",
        "\n",
        "custom_model  =  Sequential([Conv2D(16, (3,3), activation='relu', input_shape=(300, 300, 3)), \n",
        "                          MaxPooling2D(2, 2),\n",
        "                          Conv2D(32, (3,3), activation='relu'),\n",
        "                          MaxPooling2D(2,2),                                    \n",
        "                          Conv2D(64, (3,3), activation='relu'),\n",
        "                          MaxPooling2D(2,2),                                   \n",
        "                          Conv2D(64, (3,3), activation='relu'), \n",
        "                          MaxPooling2D(2,2),                                   \n",
        "                          Conv2D(64, (3,3), activation='relu'), \n",
        "                          MaxPooling2D(2,2),                                   \n",
        "                          Flatten(),                                                         \n",
        "                          Dense(512, activation='relu'),\n",
        "                          Dense(CATEGORIES, activation='softmax')])       #softmax gives prediction values for cancer cells\n",
        "\n",
        "custom_model.summary()"
      ],
      "execution_count": null,
      "outputs": []
    },
    {
      "cell_type": "markdown",
      "metadata": {
        "id": "sD7ModzzAYbr"
      },
      "source": [
        "# **Multiclass Classifier Based On AlexNet**"
      ]
    },
    {
      "cell_type": "code",
      "metadata": {
        "id": "s6K8U_fjAYGC"
      },
      "source": [
        "'''\n",
        "Implementation of the AlexNet architecture, which is an common architecture of the CNN model\n",
        "The AlexNet Alrchitecture has been modified since, the original one is capable of classifiying\n",
        "upto 1000 tensors, and requires more computational power !\n",
        "'''\n",
        "\n",
        "alexnet_model =Sequential([\n",
        "                    Conv2D(96, (11, 11), strides=(4,4), activation='relu', input_shape=(227, 227, 3)),\n",
        "                    BatchNormalization(),\n",
        "                    MaxPooling2D((3, 3),strides=(2,2)),\n",
        "                    Conv2D(256, (5, 5),padding='same', activation='relu'),                    \n",
        "                    MaxPooling2D((3, 3),strides=(2, 2)),\n",
        "                    Conv2D(384, (3, 3), padding='same',activation='relu'),\n",
        "                    Conv2D(384, (3, 3), padding='same',activation='relu'),\n",
        "                    Conv2D(256, (3, 3), padding='same',activation='relu'),\n",
        "                    MaxPooling2D((3, 3),strides=(2, 2)),\n",
        "                    Flatten(),\n",
        "                    Dense(4096, activation='relu'),                 \n",
        "                    Dropout(0.5),\n",
        "                    Dense(4096, activation='relu'),                \n",
        "                    Dropout(0.5),\n",
        "                    Dense(CATEGORIES, activation='softmax')])\n",
        "\n",
        "alexnet_model.summary()"
      ],
      "execution_count": null,
      "outputs": []
    },
    {
      "cell_type": "markdown",
      "source": [
        "# **Multiclass Classifier Based On VGG 16**"
      ],
      "metadata": {
        "id": "DhKRDOYXxBoE"
      }
    },
    {
      "cell_type": "code",
      "source": [
        "'''\n",
        "  VGG-16 is a convolutional neural network model trained on the ImageNet dataset. \n",
        "  The model is characterized by its deep architecture, which consists of 16 layers, \n",
        "  including 13 convolutional layers and 3 fully connected layers. The convolutional layers \n",
        "  are organized into 5 blocks, with each block containing multiple convolutional layers\n",
        "  and a max pooling layer. The model takes an image as input and classifies it into one \n",
        "  of 1000 object categories.The VGG-16 model is widely used as a base model for image \n",
        "  classification and object detection tasks.\n",
        "'''\n",
        "\n",
        "from keras.applications.vgg16 import VGG16  \n",
        "\n",
        "# referencing the base model with imagenet weights and removing the top layers for fine-tuning\n",
        "vgg16_base =  VGG16(weights='imagenet',\n",
        "              include_top = False,\n",
        "              input_shape = (224, 224, 3))\n",
        "\n",
        "trainable = False\n",
        "\n",
        "for layer in vgg16_base.layers:\n",
        "    if layer.name == 'block5_conv1':\n",
        "        trainable = True\n",
        "    if trainable:\n",
        "        layer.trainable = True\n",
        "    else:\n",
        "        layer.trainable = False\n",
        "\n",
        "#fine-tuning the vgg16 model to classify the 5 types of cells\n",
        "vgg16_model = Sequential([vgg16_base,\n",
        "                          Flatten(),\n",
        "                          Dropout(0.5),\n",
        "                          Dense(256,activation='relu'),\n",
        "                          Dense(CATEGORIES,activation='softmax')])\n",
        "\n",
        "vgg16_model.summary()"
      ],
      "metadata": {
        "id": "fnUdpd8uw-da",
        "outputId": "e0fc24df-677c-4e9f-c192-82432ae3a87f",
        "colab": {
          "base_uri": "https://localhost:8080/"
        }
      },
      "execution_count": null,
      "outputs": [
        {
          "output_type": "stream",
          "name": "stdout",
          "text": [
            "Downloading data from https://storage.googleapis.com/tensorflow/keras-applications/vgg16/vgg16_weights_tf_dim_ordering_tf_kernels_notop.h5\n",
            "58889256/58889256 [==============================] - 0s 0us/step\n",
            "Model: \"sequential\"\n",
            "_________________________________________________________________\n",
            " Layer (type)                Output Shape              Param #   \n",
            "=================================================================\n",
            " vgg16 (Functional)          (None, 7, 7, 512)         14714688  \n",
            "                                                                 \n",
            " flatten (Flatten)           (None, 25088)             0         \n",
            "                                                                 \n",
            " dropout (Dropout)           (None, 25088)             0         \n",
            "                                                                 \n",
            " dense (Dense)               (None, 256)               6422784   \n",
            "                                                                 \n",
            " dense_1 (Dense)             (None, 5)                 1285      \n",
            "                                                                 \n",
            "=================================================================\n",
            "Total params: 21,138,757\n",
            "Trainable params: 13,503,493\n",
            "Non-trainable params: 7,635,264\n",
            "_________________________________________________________________\n"
          ]
        }
      ]
    },
    {
      "cell_type": "markdown",
      "metadata": {
        "id": "9DgfCoeE4fa9"
      },
      "source": [
        "# **Multiclass Classifier Based On ResNet50**"
      ]
    },
    {
      "cell_type": "code",
      "metadata": {
        "id": "cT64MEEA4e3H",
        "colab": {
          "base_uri": "https://localhost:8080/"
        },
        "outputId": "e18b939b-a8aa-4886-da98-51d567fd9745"
      },
      "source": [
        "'''\n",
        "  ResNet50 is a deep convolutional neural network that was trained on more than a million images from the ImageNet database. \n",
        "  The network is 50 layers deep and can classify images into 1000 object categories, such as keyboard, mouse, pencil, and many animals.\n",
        "  It was developed by researchers at Microsoft Research in 2015, and has since become a popular model for image classification tasks \n",
        "  due to its high accuracy and efficient use of computational resources. The key innovations in ResNet50 are the use of residual \n",
        "  connections and batch normalization, which make it possible to train very deep networks without the problems of vanishing gradients\n",
        "'''\n",
        "\n",
        "from keras.applications.resnet import ResNet50   \n",
        "\n",
        "resnet50_base = ResNet50(weights=\"imagenet\", \n",
        "    include_top=False,\n",
        "    input_shape=(224,224,3)\n",
        ")\n",
        "\n",
        "for layer in resnet50_base.layers[:165]:\n",
        "   layer.trainable = False\n",
        "for layer in resnet50_base.layers[165:]:\n",
        "   layer.trainable = True\n",
        "\n",
        "resnet50_model = Sequential(\n",
        "                          [resnet50_base,                         \n",
        "                          Flatten(),\n",
        "                          Dropout(0.5),\n",
        "                          Dense(256,activation='relu'),\n",
        "                          Dropout(0.5),\n",
        "                          Dense(CATEGORIES, activation='softmax')\n",
        "                          ])\n",
        "\n",
        "resnet50_model.summary()"
      ],
      "execution_count": 11,
      "outputs": [
        {
          "output_type": "stream",
          "name": "stdout",
          "text": [
            "Model: \"sequential\"\n",
            "_________________________________________________________________\n",
            " Layer (type)                Output Shape              Param #   \n",
            "=================================================================\n",
            " resnet50 (Functional)       (None, 7, 7, 2048)        23587712  \n",
            "                                                                 \n",
            " flatten (Flatten)           (None, 100352)            0         \n",
            "                                                                 \n",
            " dropout (Dropout)           (None, 100352)            0         \n",
            "                                                                 \n",
            " dense (Dense)               (None, 256)               25690368  \n",
            "                                                                 \n",
            " dropout_1 (Dropout)         (None, 256)               0         \n",
            "                                                                 \n",
            " dense_1 (Dense)             (None, 5)                 1285      \n",
            "                                                                 \n",
            "=================================================================\n",
            "Total params: 49,279,365\n",
            "Trainable params: 30,157,317\n",
            "Non-trainable params: 19,122,048\n",
            "_________________________________________________________________\n"
          ]
        }
      ]
    },
    {
      "cell_type": "markdown",
      "source": [
        "# **Multiclass Classifier Based On InceptionV3**"
      ],
      "metadata": {
        "id": "78oleG1J4wdj"
      }
    },
    {
      "cell_type": "code",
      "source": [
        "'''\n",
        "  InceptionV3 is a deep convolutional neural network that was trained for image classification on the ImageNet dataset. \n",
        "  The network is made up of a series of modules, called Inception modules, which are designed to identify and extract a wide variety of features from \n",
        "  an image at multiple scales. The key innovation in InceptionV3 is the use of depthwise separable convolutions, which significantly\n",
        "  reduce the number of parameters in the model, making it more efficient to run on resource-constrained devices. \n",
        "  It also includes a module called the \"auxiliary classifier\" which gives more informations about image during backpropagation, \n",
        "  which enhance its performance. InceptionV3 is widely used in image recognition, and related tasks like object detection and \n",
        "  semantic segmentation, Due to its high accuracy, low computation cost and scalable nature\n",
        "'''\n",
        "\n",
        "from keras.applications import InceptionV3 \n",
        "\n",
        "inceptionv3_base = InceptionV3(weights='imagenet', \n",
        "                                include_top=False, \n",
        "                                input_shape=(299, 299,3))\n",
        "# inceptionv3_base.trainable = False\n",
        "inceptionv3_model = Sequential()\n",
        "inceptionv3_model.add(inceptionv3_base)\n",
        "inceptionv3_model.add(GlobalAveragePooling2D())\n",
        "inceptionv3_model.add(Dropout(0.5))\n",
        "inceptionv3_model.add(Dense(CATEGORIES,activation='softmax'))\n",
        "inceptionv3_model.summary()"
      ],
      "metadata": {
        "id": "IOmUqsfG430J"
      },
      "execution_count": null,
      "outputs": []
    },
    {
      "cell_type": "markdown",
      "source": [
        "# **Multiclass Classifier Based On EfficientNet-B7**"
      ],
      "metadata": {
        "id": "3CIiil9XDYQu"
      }
    },
    {
      "cell_type": "code",
      "source": [
        "from keras.applications import EfficientNetB7\n",
        "efficientnet_base = EfficientNetB7(weights='imagenet', include_top=True)\n",
        "for layer in efficientnet_base.layers[:-15]:\n",
        "    layer.trainable = False\n",
        "\n",
        "efficientnet_model = Sequential(\n",
        "                          [efficientnet_base,                         \n",
        "                          Flatten(),\n",
        "                          Dropout(0.5),\n",
        "                          Dense(256,activation='relu'),\n",
        "                          Dropout(0.5),\n",
        "                          Dense(CATEGORIES, activation='softmax')\n",
        "                          ])\n",
        "\n",
        "efficientnet_model.summary()"
      ],
      "metadata": {
        "colab": {
          "base_uri": "https://localhost:8080/"
        },
        "id": "I9m9f9jSDgb9",
        "outputId": "eba410a8-671c-422e-b4b9-b65ae69a093e"
      },
      "execution_count": null,
      "outputs": [
        {
          "output_type": "stream",
          "name": "stdout",
          "text": [
            "Model: \"sequential\"\n",
            "_________________________________________________________________\n",
            " Layer (type)                Output Shape              Param #   \n",
            "=================================================================\n",
            " efficientnetb7 (Functional)  (None, 1000)             66658687  \n",
            "                                                                 \n",
            " flatten_1 (Flatten)         (None, 1000)              0         \n",
            "                                                                 \n",
            " dropout_2 (Dropout)         (None, 1000)              0         \n",
            "                                                                 \n",
            " dense_1 (Dense)             (None, 256)               256256    \n",
            "                                                                 \n",
            " dropout_3 (Dropout)         (None, 256)               0         \n",
            "                                                                 \n",
            " dense_2 (Dense)             (None, 5)                 1285      \n",
            "                                                                 \n",
            "=================================================================\n",
            "Total params: 66,916,228\n",
            "Trainable params: 8,153,741\n",
            "Non-trainable params: 58,762,487\n",
            "_________________________________________________________________\n"
          ]
        }
      ]
    },
    {
      "cell_type": "markdown",
      "metadata": {
        "id": "EVvlM0Zt59cN"
      },
      "source": [
        "# **Compile the model**"
      ]
    },
    {
      "cell_type": "code",
      "metadata": {
        "id": "w5dFUoZ46AMX",
        "colab": {
          "base_uri": "https://localhost:8080/"
        },
        "outputId": "3b7de197-93c6-4fa1-86e2-ee8c0a7822f1"
      },
      "source": [
        "from tensorflow.keras.optimizers import RMSprop,Adam  \n",
        "                            \n",
        "def compile_model(model):\n",
        "  '''\n",
        "    Compiling the model using the loss function  crossentropy and RMSProp !\n",
        "    \n",
        "    params : model object \n",
        "    return : None\n",
        "  '''\n",
        "\n",
        "  model.compile(loss='categorical_crossentropy',\n",
        "                optimizer=RMSprop(lr=1e-5), #optionally use the Adam with learning rate 0.001 - 1e-5\n",
        "                metrics=['accuracy'])\n",
        "compile_model(resnet50_model)\n"
      ],
      "execution_count": 12,
      "outputs": [
        {
          "output_type": "stream",
          "name": "stderr",
          "text": [
            "/usr/local/lib/python3.8/dist-packages/keras/optimizers/optimizer_v2/rmsprop.py:135: UserWarning: The `lr` argument is deprecated, use `learning_rate` instead.\n",
            "  super(RMSprop, self).__init__(name, **kwargs)\n"
          ]
        }
      ]
    },
    {
      "cell_type": "markdown",
      "metadata": {
        "id": "utjDFI0vhN-j"
      },
      "source": [
        "# **The Path To Model H5 Files**"
      ]
    },
    {
      "cell_type": "code",
      "metadata": {
        "id": "lQQikA-3D72T"
      },
      "source": [
        "'''\n",
        "The below callback list is used to moniter the validation accuracy, and the save the best version of the\n",
        "CNN model. The paths has been specified for later use !\n",
        "\n",
        "The Classifier model and the history file are saved in the DCNN Classifier Models directory, in the format:\n",
        "\n",
        "Model_Name_Directory\n",
        "                | \n",
        "                |\n",
        "                 ---- Model_File.h5\n",
        "                 ---- Model_History.pickle\n",
        "                 -----Model_Test_Accuracy.pickle\n",
        "'''\n",
        "\n",
        "custom_model_path          =          '/content/drive/MyDrive/DCNN Classifier Models /Test Classifier/Test Classifier_Model.h5'\n",
        "alexnet_model_path         =          '/content/drive/MyDrive/DCNN Classifier Models /AlexNet Classifier/AlexNet_Classifier_Model.h5'\n",
        "resnet50_model_path        =          '/content/drive/MyDrive/DCNN Classifier Models /resnet50_base Classifier/ResNet_Classifier_Model.h5'\n",
        "vgg16_model_path           =          '/content/drive/MyDrive/DCNN Classifier Models /VGGNet Classifier/VGGNet_Model.h5'\n",
        "inceptionv3_model_path     =          '/content/drive/MyDrive/DCNN Classifier Models /GoogleNet Classifier/GoogleNet_Model.h5'\n",
        "efficientnet_model_path    =          '/content/drive/MyDrive/DCNN Classifier Models /GoogleNet Classifier/EfficientNet_Model.h5'"
      ],
      "execution_count": 15,
      "outputs": []
    },
    {
      "cell_type": "markdown",
      "metadata": {
        "id": "5i-9ZzE5qICk"
      },
      "source": [
        "# **Validation and CallBack Lists**"
      ]
    },
    {
      "cell_type": "markdown",
      "metadata": {
        "id": "1wug3BUMhWoF"
      },
      "source": [
        "# Early Stopping To Prevent Overfitting Of The Models"
      ]
    },
    {
      "cell_type": "code",
      "metadata": {
        "id": "PgWlesAC4SI7"
      },
      "source": [
        "'''\n",
        "Early stopping is a mechanism, which allows to moniter a value, specially the val_loss, and stop the \n",
        "training, at a particular patience level, to avoid overfitting !\n",
        "'''\n",
        "\n",
        "from keras.callbacks import ModelCheckpoint,EarlyStopping \n",
        "early_call_back = EarlyStopping(monitor=\"val_loss\",patience=8,verbose=1,mode=\"auto\",restore_best_weights=True)"
      ],
      "execution_count": 17,
      "outputs": []
    },
    {
      "cell_type": "markdown",
      "metadata": {
        "id": "Xj2IHe2phdkI"
      },
      "source": [
        "# Model Check Points To Save The Best Weights"
      ]
    },
    {
      "cell_type": "code",
      "metadata": {
        "id": "kR2Rgy-AQvml"
      },
      "source": [
        "'''\n",
        "Specifying the model checkpoint by monitering the value accuracy, with maximum value adjustments and adding\n",
        "that to callback list !\n",
        "'''\n",
        "\n",
        "callback_checkpoint = ModelCheckpoint(resnet50_model_path,monitor='val_accuracy',verbose=1,save_best_only=True,mode='max')\n",
        "callback_checkpoint_list = [callback_checkpoint,early_call_back]    #can remove the early stopping if needed !"
      ],
      "execution_count": 18,
      "outputs": []
    },
    {
      "cell_type": "markdown",
      "metadata": {
        "id": "UovyYQST6aey"
      },
      "source": [
        "# **Training the datset based on given model !**"
      ]
    },
    {
      "cell_type": "code",
      "metadata": {
        "id": "IASzW7LI6e7N",
        "colab": {
          "base_uri": "https://localhost:8080/"
        },
        "outputId": "3fe1dbb4-e334-4d9e-825f-6bca34a4efab"
      },
      "source": [
        "def train_the_model(model):\n",
        "  '''\n",
        "    The function takes in model as an arguement and trains it according to given epochs and batch size !\n",
        "    epochs:depending on the early stopping\n",
        "\n",
        "    Params: model object\n",
        "\n",
        "    return: trained model\n",
        "  '''\n",
        "  the_final_train = model.fit(\n",
        "                      training_images_datagen,\n",
        "                      callbacks       = callback_checkpoint_list,\n",
        "                      validation_data = valid_images_datagen,\n",
        "                      steps_per_epoch = 3,          #the steps per epoch is set to 2, but cannot be set to more than 3(because of error !) \n",
        "                      epochs          = 80,         #change according to best fitting accuracy !\n",
        "                      verbose         = 2,\n",
        "                    )\n",
        "  return the_final_train\n",
        "\n",
        "\n",
        "trained_model=train_the_model(resnet50_model)"
      ],
      "execution_count": 19,
      "outputs": [
        {
          "output_type": "stream",
          "name": "stdout",
          "text": [
            "Epoch 1/80\n",
            "\n",
            "Epoch 1: val_accuracy improved from -inf to 0.76923, saving model to /content/drive/MyDrive/DCNN Classifier Models /resnet50_base Classifier/ResNet_Classifier_Model.h5\n",
            "3/3 - 402s - loss: 3.1420 - accuracy: 0.5279 - val_loss: 0.7565 - val_accuracy: 0.7692 - 402s/epoch - 134s/step\n",
            "Epoch 2/80\n",
            "\n",
            "Epoch 2: val_accuracy improved from 0.76923 to 0.79720, saving model to /content/drive/MyDrive/DCNN Classifier Models /resnet50_base Classifier/ResNet_Classifier_Model.h5\n",
            "3/3 - 139s - loss: 1.2317 - accuracy: 0.7630 - val_loss: 0.6277 - val_accuracy: 0.7972 - 139s/epoch - 46s/step\n",
            "Epoch 3/80\n",
            "\n",
            "Epoch 3: val_accuracy improved from 0.79720 to 0.83217, saving model to /content/drive/MyDrive/DCNN Classifier Models /resnet50_base Classifier/ResNet_Classifier_Model.h5\n",
            "3/3 - 73s - loss: 0.8774 - accuracy: 0.8255 - val_loss: 0.4735 - val_accuracy: 0.8322 - 73s/epoch - 24s/step\n",
            "Epoch 4/80\n",
            "\n",
            "Epoch 4: val_accuracy did not improve from 0.83217\n",
            "3/3 - 59s - loss: 0.6990 - accuracy: 0.8281 - val_loss: 0.4915 - val_accuracy: 0.8112 - 59s/epoch - 20s/step\n",
            "Epoch 5/80\n",
            "\n",
            "Epoch 5: val_accuracy did not improve from 0.83217\n",
            "3/3 - 27s - loss: 0.5287 - accuracy: 0.8802 - val_loss: 0.4907 - val_accuracy: 0.8042 - 27s/epoch - 9s/step\n",
            "Epoch 6/80\n",
            "\n",
            "Epoch 6: val_accuracy did not improve from 0.83217\n",
            "3/3 - 17s - loss: 0.5985 - accuracy: 0.8715 - val_loss: 0.4768 - val_accuracy: 0.8182 - 17s/epoch - 6s/step\n",
            "Epoch 7/80\n",
            "\n",
            "Epoch 7: val_accuracy improved from 0.83217 to 0.84615, saving model to /content/drive/MyDrive/DCNN Classifier Models /resnet50_base Classifier/ResNet_Classifier_Model.h5\n",
            "3/3 - 18s - loss: 0.6531 - accuracy: 0.8594 - val_loss: 0.4332 - val_accuracy: 0.8462 - 18s/epoch - 6s/step\n",
            "Epoch 8/80\n",
            "\n",
            "Epoch 8: val_accuracy improved from 0.84615 to 0.86014, saving model to /content/drive/MyDrive/DCNN Classifier Models /resnet50_base Classifier/ResNet_Classifier_Model.h5\n",
            "3/3 - 11s - loss: 0.4455 - accuracy: 0.8984 - val_loss: 0.3926 - val_accuracy: 0.8601 - 11s/epoch - 4s/step\n",
            "Epoch 9/80\n",
            "\n",
            "Epoch 9: val_accuracy improved from 0.86014 to 0.88112, saving model to /content/drive/MyDrive/DCNN Classifier Models /resnet50_base Classifier/ResNet_Classifier_Model.h5\n",
            "3/3 - 9s - loss: 0.4635 - accuracy: 0.8854 - val_loss: 0.3685 - val_accuracy: 0.8811 - 9s/epoch - 3s/step\n",
            "Epoch 10/80\n",
            "\n",
            "Epoch 10: val_accuracy improved from 0.88112 to 0.88811, saving model to /content/drive/MyDrive/DCNN Classifier Models /resnet50_base Classifier/ResNet_Classifier_Model.h5\n",
            "3/3 - 9s - loss: 0.3613 - accuracy: 0.9010 - val_loss: 0.3641 - val_accuracy: 0.8881 - 9s/epoch - 3s/step\n",
            "Epoch 11/80\n",
            "\n",
            "Epoch 11: val_accuracy improved from 0.88811 to 0.89510, saving model to /content/drive/MyDrive/DCNN Classifier Models /resnet50_base Classifier/ResNet_Classifier_Model.h5\n",
            "3/3 - 11s - loss: 0.2990 - accuracy: 0.9078 - val_loss: 0.2935 - val_accuracy: 0.8951 - 11s/epoch - 4s/step\n",
            "Epoch 12/80\n",
            "\n",
            "Epoch 12: val_accuracy did not improve from 0.89510\n",
            "3/3 - 8s - loss: 0.3001 - accuracy: 0.9167 - val_loss: 0.3833 - val_accuracy: 0.8951 - 8s/epoch - 3s/step\n",
            "Epoch 13/80\n",
            "\n",
            "Epoch 13: val_accuracy improved from 0.89510 to 0.91608, saving model to /content/drive/MyDrive/DCNN Classifier Models /resnet50_base Classifier/ResNet_Classifier_Model.h5\n",
            "3/3 - 7s - loss: 0.3791 - accuracy: 0.9089 - val_loss: 0.3044 - val_accuracy: 0.9161 - 7s/epoch - 2s/step\n",
            "Epoch 14/80\n",
            "\n",
            "Epoch 14: val_accuracy did not improve from 0.91608\n",
            "3/3 - 6s - loss: 0.2770 - accuracy: 0.9106 - val_loss: 0.3218 - val_accuracy: 0.8881 - 6s/epoch - 2s/step\n",
            "Epoch 15/80\n",
            "\n",
            "Epoch 15: val_accuracy improved from 0.91608 to 0.92308, saving model to /content/drive/MyDrive/DCNN Classifier Models /resnet50_base Classifier/ResNet_Classifier_Model.h5\n",
            "3/3 - 7s - loss: 0.2185 - accuracy: 0.9330 - val_loss: 0.2916 - val_accuracy: 0.9231 - 7s/epoch - 2s/step\n",
            "Epoch 16/80\n",
            "\n",
            "Epoch 16: val_accuracy did not improve from 0.92308\n",
            "3/3 - 7s - loss: 0.1959 - accuracy: 0.9323 - val_loss: 0.2910 - val_accuracy: 0.9161 - 7s/epoch - 2s/step\n",
            "Epoch 17/80\n",
            "\n",
            "Epoch 17: val_accuracy did not improve from 0.92308\n",
            "3/3 - 8s - loss: 0.3028 - accuracy: 0.9089 - val_loss: 0.2555 - val_accuracy: 0.9161 - 8s/epoch - 3s/step\n",
            "Epoch 18/80\n",
            "\n",
            "Epoch 18: val_accuracy did not improve from 0.92308\n",
            "3/3 - 6s - loss: 0.2187 - accuracy: 0.9193 - val_loss: 0.2767 - val_accuracy: 0.9091 - 6s/epoch - 2s/step\n",
            "Epoch 19/80\n",
            "\n",
            "Epoch 19: val_accuracy did not improve from 0.92308\n",
            "3/3 - 7s - loss: 0.2290 - accuracy: 0.9479 - val_loss: 0.2874 - val_accuracy: 0.9231 - 7s/epoch - 2s/step\n",
            "Epoch 20/80\n",
            "\n",
            "Epoch 20: val_accuracy improved from 0.92308 to 0.93706, saving model to /content/drive/MyDrive/DCNN Classifier Models /resnet50_base Classifier/ResNet_Classifier_Model.h5\n",
            "3/3 - 11s - loss: 0.1901 - accuracy: 0.9323 - val_loss: 0.2808 - val_accuracy: 0.9371 - 11s/epoch - 4s/step\n",
            "Epoch 21/80\n",
            "\n",
            "Epoch 21: val_accuracy did not improve from 0.93706\n",
            "3/3 - 8s - loss: 0.1525 - accuracy: 0.9349 - val_loss: 0.2409 - val_accuracy: 0.9371 - 8s/epoch - 3s/step\n",
            "Epoch 22/80\n",
            "\n",
            "Epoch 22: val_accuracy did not improve from 0.93706\n",
            "3/3 - 5s - loss: 0.1612 - accuracy: 0.9375 - val_loss: 0.2571 - val_accuracy: 0.9371 - 5s/epoch - 2s/step\n",
            "Epoch 23/80\n",
            "\n",
            "Epoch 23: val_accuracy did not improve from 0.93706\n",
            "3/3 - 6s - loss: 0.1844 - accuracy: 0.9401 - val_loss: 0.2718 - val_accuracy: 0.9301 - 6s/epoch - 2s/step\n",
            "Epoch 24/80\n",
            "\n",
            "Epoch 24: val_accuracy did not improve from 0.93706\n",
            "3/3 - 7s - loss: 0.1725 - accuracy: 0.9479 - val_loss: 0.2842 - val_accuracy: 0.9091 - 7s/epoch - 2s/step\n",
            "Epoch 25/80\n",
            "\n",
            "Epoch 25: val_accuracy did not improve from 0.93706\n",
            "3/3 - 6s - loss: 0.2039 - accuracy: 0.9427 - val_loss: 0.2854 - val_accuracy: 0.9161 - 6s/epoch - 2s/step\n",
            "Epoch 26/80\n",
            "\n",
            "Epoch 26: val_accuracy did not improve from 0.93706\n",
            "3/3 - 7s - loss: 0.1525 - accuracy: 0.9401 - val_loss: 0.2517 - val_accuracy: 0.9371 - 7s/epoch - 2s/step\n",
            "Epoch 27/80\n",
            "\n",
            "Epoch 27: val_accuracy did not improve from 0.93706\n",
            "3/3 - 5s - loss: 0.1233 - accuracy: 0.9557 - val_loss: 0.2563 - val_accuracy: 0.9371 - 5s/epoch - 2s/step\n",
            "Epoch 28/80\n",
            "\n",
            "Epoch 28: val_accuracy did not improve from 0.93706\n",
            "3/3 - 6s - loss: 0.1312 - accuracy: 0.9581 - val_loss: 0.2756 - val_accuracy: 0.9371 - 6s/epoch - 2s/step\n",
            "Epoch 29/80\n",
            "\n",
            "Epoch 29: val_accuracy did not improve from 0.93706\n",
            "Restoring model weights from the end of the best epoch: 21.\n",
            "3/3 - 6s - loss: 0.1150 - accuracy: 0.9583 - val_loss: 0.2723 - val_accuracy: 0.9161 - 6s/epoch - 2s/step\n",
            "Epoch 29: early stopping\n"
          ]
        }
      ]
    },
    {
      "cell_type": "markdown",
      "metadata": {
        "id": "SnfCsHlkHZzZ"
      },
      "source": [
        "# **Saving History Pickle File !**"
      ]
    },
    {
      "cell_type": "markdown",
      "metadata": {
        "id": "hL7W5be4hky8"
      },
      "source": [
        "# Path To Store The Respective Model Training And Validation Losses"
      ]
    },
    {
      "cell_type": "code",
      "metadata": {
        "id": "uevOvCWNHZex"
      },
      "source": [
        "custom_model_history_pickle        = '/content/drive/MyDrive/DCNN Classifier Models /Test Classifier/Test Classifier_Model.pickle'\n",
        "alexnet_model_history_pickle       = '/content/drive/MyDrive/DCNN Classifier Models /AlexNet Classifier/AlexNet_Classifier_Model.pickle'\n",
        "resnet50_model_history_pickle      = '/content/drive/MyDrive/DCNN Classifier Models /resnet50_base Classifier/ResNet_Classifier_Model.pickle'\n",
        "vgg16_model_history_pickle         = '/content/drive/MyDrive/DCNN Classifier Models /VGGNet Classifier/VGGNet_Model.pickle'\n",
        "inceptionv3_model_history_pickle   = '/content/drive/MyDrive/DCNN Classifier Models /GoogleNet Classifier/GoogleNet_Model.pickle'\n",
        "efficientnet_model_history_pickle  =  '/content/drive/MyDrive/DCNN Classifier Models /GoogleNet Classifier/EfficientNet_Model.pickle'"
      ],
      "execution_count": 20,
      "outputs": []
    },
    {
      "cell_type": "markdown",
      "metadata": {
        "id": "umQvEJ8hNqxs"
      },
      "source": [
        "# **Saving the Accuracy and Loss To A Pickle File**"
      ]
    },
    {
      "cell_type": "code",
      "metadata": {
        "id": "aGvDV7DyW4Ls",
        "outputId": "3b94351d-aa3d-4662-ad24-1666758e5d70",
        "colab": {
          "base_uri": "https://localhost:8080/"
        }
      },
      "source": [
        "import pickle \n",
        "def save_file(pickle_dir,model_history):\n",
        "  '''\n",
        "    The model cannot path cannot be directly used to retrieve the history thats\n",
        "    why we are saving the respective model history to a pickle file \n",
        "\n",
        "    params : model_history, path of pickle file \n",
        "    return : None\n",
        "\n",
        "    \n",
        "  '''\n",
        "  with open(pickle_dir,'wb') as binary_pickle:\n",
        "    binary_pickle.write(pickle.dumps(model_history))          #dumping to pickle before writing to pickle file !\n",
        "    print(f'History Saved to {pickle_dir}')\n",
        "\n",
        "save_file(vgg16_model_history_pickle,trained_model.history)  #the path of the model history pickle and the current model history !"
      ],
      "execution_count": 21,
      "outputs": [
        {
          "output_type": "stream",
          "name": "stdout",
          "text": [
            "History Saved to /content/drive/MyDrive/DCNN Classifier Models /VGGNet Classifier/VGGNet_Model.pickle\n"
          ]
        }
      ]
    },
    {
      "cell_type": "markdown",
      "metadata": {
        "id": "AKqlawEa-J0E"
      },
      "source": [
        "# **Accuracy and Loss Graph !**"
      ]
    },
    {
      "cell_type": "code",
      "metadata": {
        "id": "_8dEYa0P-JQY",
        "colab": {
          "base_uri": "https://localhost:8080/",
          "height": 608
        },
        "outputId": "83129fa2-c3b9-4dab-d2ea-a8031ed4692f"
      },
      "source": [
        "import matplotlib.pyplot as plt\n",
        "\n",
        "def plot_metrics(acc_path):\n",
        "  '''\n",
        "    The accuracy and the losses at each iteration/epoch is evaluated in the graph below\n",
        "    matplotlib is used for plotting.\n",
        "    \n",
        "    params: model history path (.pickle file)\n",
        "    return: None\n",
        "  '''\n",
        "  with open(acc_path,'rb') as model_history: #opening the pickle file which contains the dictionary !\n",
        "    model=model_history.read()\n",
        "  model=pickle.loads(model)\n",
        "  plt.plot(model['accuracy'])\n",
        "  plt.plot(model['val_accuracy'])\n",
        "  plt.title('model_accuracy')\n",
        "  plt.ylabel('accuracy')\n",
        "  plt.xlabel('epoch')\n",
        "  plt.legend(['train','test'],loc='lower left')\n",
        "  plt.show()\n",
        "\n",
        "  plt.plot(model['loss'])\n",
        "  plt.plot(model['val_loss'])\n",
        "  plt.title('model_loss')\n",
        "  plt.ylabel('loss')\n",
        "  plt.xlabel('epoch')\n",
        "  plt.legend(['train','val loss'],loc='lower left')\n",
        "  plt.show()\n",
        "  train_acc = model['accuracy'][-1]*100\n",
        "  val_acc   = model['val_accuracy'][-1]*100\n",
        "  print(f'Training Accuracy : {round(train_acc,2)} %')\n",
        "  print(f'Validation Accuracy : {round(val_acc,2)} %')\n",
        "\n",
        "plot_metrics(vgg16_model_history_pickle)\n"
      ],
      "execution_count": 24,
      "outputs": [
        {
          "output_type": "display_data",
          "data": {
            "text/plain": [
              "<Figure size 432x288 with 1 Axes>"
            ],
            "image/png": "[encoded data removed]"
          },
          "metadata": {
            "needs_background": "light"
          }
        },
        {
          "output_type": "display_data",
          "data": {
            "text/plain": [
              "<Figure size 432x288 with 1 Axes>"
            ],
            "image/png": "[encoded data removed]"
          },
          "metadata": {
            "needs_background": "light"
          }
        },
        {
          "output_type": "stream",
          "name": "stdout",
          "text": [
            "Training Accuracy : 95.83 %\n",
            "Validation Accuracy : 91.61 %\n"
          ]
        }
      ]
    },
    {
      "cell_type": "markdown",
      "metadata": {
        "id": "29RIUA9QhvRW"
      },
      "source": [
        "# **Getting The Prediction Values From The Models**"
      ]
    },
    {
      "cell_type": "code",
      "metadata": {
        "id": "6jaER7Xn5u0F"
      },
      "source": [
        "import keras.utils as image\n",
        "import tensorflow as tf\n",
        "\n",
        "def get_preds(model,image_path):\n",
        "  '''\n",
        "    The function to get prediction value, which basically returns the probablity values of \n",
        "    corresponding cancer types !\n",
        "    \n",
        "    params: model, image_location path\n",
        "    return: \n",
        "  '''\n",
        "  size = (224,224)                                                  # default set to 224 x 224 for VGG and ResNet50\n",
        "  if model == 'AlexNet':\n",
        "    model,size = alexnet_model_path,model_dict['AlexNet']\n",
        "  elif model == 'Binary':\n",
        "    model,size = custom_model_path,model_dict['Binary']\n",
        "  elif model == 'ResNet':\n",
        "    model = resnet50_model_path\n",
        "  elif model == 'InceptionV3':\n",
        "    model = inceptionv3_model_path\n",
        "  elif model == 'VGG':\n",
        "    model = vgg16_model_path\n",
        "  else:\n",
        "    raise Exception('Invalid Model Arguments !')                      # exception thrown for invalid path !\n",
        "\n",
        "  model = keras.models.load_model(model)                              # loading the model.h5 from the drive !\n",
        "  img   = tf.keras.utils.load_img(image_path, target_size=size)       \n",
        "  img   = image.img_to_array(img)\n",
        "  img   = np.expand_dims(img, axis=0)                                 # expanding along one axis \n",
        "  result_vector = model.predict(img).round(1)\n",
        "  return result_vector[0]"
      ],
      "execution_count": 27,
      "outputs": []
    },
    {
      "cell_type": "markdown",
      "metadata": {
        "id": "DX4eLxWFN4CD"
      },
      "source": [
        "# Obtaining the Prediced values and Actual Values"
      ]
    },
    {
      "cell_type": "code",
      "metadata": {
        "id": "_ikNBk-S6iFL"
      },
      "source": [
        "y_preds = [get_preds('resnet50_base',x) for x in tests]\n",
        "y_true = test_images_datagen.classes\n",
        "class_labels = list(test_images_datagen.class_indices.keys())"
      ],
      "execution_count": null,
      "outputs": []
    },
    {
      "cell_type": "markdown",
      "source": [
        "# **AUC ROC Metrics**"
      ],
      "metadata": {
        "id": "b7vqjo6MDutE"
      }
    },
    {
      "cell_type": "code",
      "source": [
        "from sklearn.metrics import roc_auc_score\n",
        "\n",
        "def get_roc_auc(model):\n",
        "  '''\n",
        "  ROC AUC is generally used for binary classification parameter analysis, but for the \n",
        "  case of multiclass, it is used as a one vs many/one vs rest approach !\n",
        "\n",
        "  params: model st\n",
        "  '''\n",
        "  y_pred = model.predict(X_test)\n",
        "  auc = roc_auc_score(y_test, y_pred, multi_class='ovr')  #using the on vs rest approach !\n",
        "  print(\"AUC-ROC score: {:.3f}\".format(auc))"
      ],
      "metadata": {
        "id": "pNc-_YeeDuBt"
      },
      "execution_count": null,
      "outputs": []
    },
    {
      "cell_type": "markdown",
      "source": [
        "# **Plot The ROC AUC Curve**"
      ],
      "metadata": {
        "id": "O7Munn0l7sNJ"
      }
    },
    {
      "cell_type": "code",
      "source": [
        "from sklearn.metrics import roc_auc_score\n",
        "from sklearn.metrics import roc_curve\n",
        "\n",
        "\n",
        "# generate some example data\n",
        "y_true = [0, 0, 1, 1]\n",
        "y_scores = [0.1, 0.4, 0.35, 0.8]\n",
        "\n",
        "# calculate AUC\n",
        "auc = roc_auc_score(y_true, y_scores)\n",
        "\n",
        "# calculate ROC curve\n",
        "fpr, tpr, thresholds = roc_curve(y_true, y_scores)\n",
        "\n",
        "# plot ROC curve\n",
        "plt.plot(fpr, tpr, label='ROC curve (area = %0.2f)' % auc)\n",
        "plt.plot([0, 1], [0, 1], 'k--')  # random predictions curve\n",
        "plt.xlim([0.0, 1.0])\n",
        "plt.ylim([0.0, 1.0])\n",
        "plt.xlabel('False Positive Rate or (1 - Specifity)')\n",
        "plt.ylabel('True Positive Rate or (Sensitivity)')\n",
        "plt.title('Receiver Operating Characteristic')\n",
        "plt.legend(loc=\"lower right\")"
      ],
      "metadata": {
        "id": "KrUcdLoh7gYi"
      },
      "execution_count": null,
      "outputs": []
    },
    {
      "cell_type": "markdown",
      "metadata": {
        "id": "SsPLPfYqXlJ1"
      },
      "source": [
        "#**Testing for Cancer vs Normal**"
      ]
    },
    {
      "cell_type": "code",
      "metadata": {
        "id": "r9hAShN3yULC",
        "colab": {
          "base_uri": "https://localhost:8080/"
        },
        "outputId": "590f91ac-7d2a-4d22-ca2e-9cedfb9880ae"
      },
      "source": [
        "import numpy as np\n",
        "def check_for_cancer(model,image_path):      \n",
        "  '''\n",
        "    The final module of the system which basically predicts whether given cell is of CML,CLL,ALL or AML,\n",
        "    based on the image and the prediction model file !\n",
        "\n",
        "    params: path to the model, the path to the image !\n",
        "    return: Cancer Prediction (str) \n",
        " \n",
        "   \n",
        "  '''           \n",
        "  result_vector = get_preds(model,image_path).tolist()  \n",
        "  c_array = {0:'ALL', 1:'AML', 2:'CLL', 3:'CML', 4:'Normal'}\n",
        "  index = result_vector.index(max(result_vector))                \n",
        "  return c_array[index]\n",
        "\n",
        "\n",
        "model  = 'VGG'\n",
        "print(f'Prediction Based on the {model} Classifier !')\n",
        "print(check_for_cancer(model,'/content/drive/MyDrive/DCNN Datasets_1/Testing/ALL/Im001_1.tif'))"
      ],
      "execution_count": 29,
      "outputs": [
        {
          "output_type": "stream",
          "name": "stdout",
          "text": [
            "Prediction Based on the VGG Classifier !\n",
            "1/1 [==============================] - 0s 124ms/step\n",
            "ALL\n"
          ]
        }
      ]
    },
    {
      "cell_type": "markdown",
      "metadata": {
        "id": "caCnVM8FOBh7"
      },
      "source": [
        "# Path to store the Test Accuracy"
      ]
    },
    {
      "cell_type": "code",
      "metadata": {
        "id": "TitqEKz9nhWV"
      },
      "source": [
        "custom_model_acc_path       = '/content/drive/MyDrive/DCNN Classifier Models /Test Classifier/Test Classifier_Model.pickle'\n",
        "alexnet_model_acc_path      = '/content/drive/MyDrive/DCNN Classifier Models /AlexNet Classifier/AlexNet_Classifier_Model_Acc.pickle'\n",
        "resnet_model_acc_path       = '/content/drive/MyDrive/DCNN Classifier Models /resnet50_base Classifier/ResNet_Classifier_Model_Acc.pickle'\n",
        "vgg16_model_acc_path        = '/content/drive/MyDrive/DCNN Classifier Models /VGGNet Classifier/VGGNet_Model_Acc.pickle'\n",
        "inceptionv3_model_acc_path  = '/content/drive/MyDrive/DCNN Classifier Models /GoogleNet Classifier/GoogleNet_Model_acc.pickle'"
      ],
      "execution_count": 31,
      "outputs": []
    },
    {
      "cell_type": "markdown",
      "metadata": {
        "id": "kgto-0NzLjgb"
      },
      "source": [
        "# **Save Testing Accuracy To Pickle File**"
      ]
    },
    {
      "cell_type": "code",
      "metadata": {
        "id": "QoLOpSkUzKd0",
        "colab": {
          "base_uri": "https://localhost:8080/",
          "height": 1000
        },
        "outputId": "c7ed5edc-6548-477b-9033-6671e0c4d55a"
      },
      "source": [
        "def get_accuracy(model_path:str,test_datagen,pickle_file:str)->None:\n",
        "  '''\n",
        "    The optional block of code only run if the accuracy is to be calculated !\n",
        "    \n",
        "    params: model_path, test_generator, pickle_file path\n",
        "    return: None\n",
        "    \n",
        "'''\n",
        "\n",
        "  model = keras.models.load_model(custom_model_path)\n",
        "  loss,accuracy = model.evaluate(test_datagen,batch_size = 128)\n",
        "  with open(pickle_file,'wb') as binary_pickle:\n",
        "    binary_pickle.write(pickle.dumps((loss,accuracy)))     #dumping to pickle before writing to pickle file !\n",
        "    print(f'Accuracy Saved to {pickle_file}')\n",
        "\n",
        "get_accuracy(vgg16_model_path,test_images_datagen,vgg16_model_acc_path)"
      ],
      "execution_count": 34,
      "outputs": [
        {
          "output_type": "error",
          "ename": "InvalidArgumentError",
          "evalue": "ignored",
          "traceback": [
            "\u001b[0;31m---------------------------------------------------------------------------\u001b[0m",
            "\u001b[0;31mInvalidArgumentError\u001b[0m                      Traceback (most recent call last)",
            "\u001b[0;32m<ipython-input-34-ad20ac47236f>\u001b[0m in \u001b[0;36m<module>\u001b[0;34m\u001b[0m\n\u001b[1;32m     14\u001b[0m     \u001b[0mprint\u001b[0m\u001b[0;34m(\u001b[0m\u001b[0;34mf'Accuracy Saved to {pickle_file}'\u001b[0m\u001b[0;34m)\u001b[0m\u001b[0;34m\u001b[0m\u001b[0;34m\u001b[0m\u001b[0m\n\u001b[1;32m     15\u001b[0m \u001b[0;34m\u001b[0m\u001b[0m\n\u001b[0;32m---> 16\u001b[0;31m \u001b[0mget_accuracy\u001b[0m\u001b[0;34m(\u001b[0m\u001b[0mvgg16_model_path\u001b[0m\u001b[0;34m,\u001b[0m\u001b[0mtest_images_datagen\u001b[0m\u001b[0;34m,\u001b[0m\u001b[0mvgg16_model_acc_path\u001b[0m\u001b[0;34m)\u001b[0m\u001b[0;34m\u001b[0m\u001b[0;34m\u001b[0m\u001b[0m\n\u001b[0m",
            "\u001b[0;32m<ipython-input-34-ad20ac47236f>\u001b[0m in \u001b[0;36mget_accuracy\u001b[0;34m(model_path, test_datagen, pickle_file)\u001b[0m\n\u001b[1;32m      9\u001b[0m \u001b[0;34m\u001b[0m\u001b[0m\n\u001b[1;32m     10\u001b[0m   \u001b[0mmodel\u001b[0m \u001b[0;34m=\u001b[0m \u001b[0mkeras\u001b[0m\u001b[0;34m.\u001b[0m\u001b[0mmodels\u001b[0m\u001b[0;34m.\u001b[0m\u001b[0mload_model\u001b[0m\u001b[0;34m(\u001b[0m\u001b[0mcustom_model_path\u001b[0m\u001b[0;34m)\u001b[0m\u001b[0;34m\u001b[0m\u001b[0;34m\u001b[0m\u001b[0m\n\u001b[0;32m---> 11\u001b[0;31m   \u001b[0mloss\u001b[0m\u001b[0;34m,\u001b[0m\u001b[0maccuracy\u001b[0m \u001b[0;34m=\u001b[0m \u001b[0mmodel\u001b[0m\u001b[0;34m.\u001b[0m\u001b[0mevaluate\u001b[0m\u001b[0;34m(\u001b[0m\u001b[0mtest_datagen\u001b[0m\u001b[0;34m,\u001b[0m\u001b[0mbatch_size\u001b[0m \u001b[0;34m=\u001b[0m \u001b[0;36m128\u001b[0m\u001b[0;34m)\u001b[0m\u001b[0;34m\u001b[0m\u001b[0;34m\u001b[0m\u001b[0m\n\u001b[0m\u001b[1;32m     12\u001b[0m   \u001b[0;32mwith\u001b[0m \u001b[0mopen\u001b[0m\u001b[0;34m(\u001b[0m\u001b[0mpickle_file\u001b[0m\u001b[0;34m,\u001b[0m\u001b[0;34m'wb'\u001b[0m\u001b[0;34m)\u001b[0m \u001b[0;32mas\u001b[0m \u001b[0mbinary_pickle\u001b[0m\u001b[0;34m:\u001b[0m\u001b[0;34m\u001b[0m\u001b[0;34m\u001b[0m\u001b[0m\n\u001b[1;32m     13\u001b[0m     \u001b[0mbinary_pickle\u001b[0m\u001b[0;34m.\u001b[0m\u001b[0mwrite\u001b[0m\u001b[0;34m(\u001b[0m\u001b[0mpickle\u001b[0m\u001b[0;34m.\u001b[0m\u001b[0mdumps\u001b[0m\u001b[0;34m(\u001b[0m\u001b[0;34m(\u001b[0m\u001b[0mloss\u001b[0m\u001b[0;34m,\u001b[0m\u001b[0maccuracy\u001b[0m\u001b[0;34m)\u001b[0m\u001b[0;34m)\u001b[0m\u001b[0;34m)\u001b[0m     \u001b[0;31m#dumping to pickle before writing to pickle file !\u001b[0m\u001b[0;34m\u001b[0m\u001b[0;34m\u001b[0m\u001b[0m\n",
            "\u001b[0;32m/usr/local/lib/python3.8/dist-packages/keras/utils/traceback_utils.py\u001b[0m in \u001b[0;36merror_handler\u001b[0;34m(*args, **kwargs)\u001b[0m\n\u001b[1;32m     65\u001b[0m     \u001b[0;32mexcept\u001b[0m \u001b[0mException\u001b[0m \u001b[0;32mas\u001b[0m \u001b[0me\u001b[0m\u001b[0;34m:\u001b[0m  \u001b[0;31m# pylint: disable=broad-except\u001b[0m\u001b[0;34m\u001b[0m\u001b[0;34m\u001b[0m\u001b[0m\n\u001b[1;32m     66\u001b[0m       \u001b[0mfiltered_tb\u001b[0m \u001b[0;34m=\u001b[0m \u001b[0m_process_traceback_frames\u001b[0m\u001b[0;34m(\u001b[0m\u001b[0me\u001b[0m\u001b[0;34m.\u001b[0m\u001b[0m__traceback__\u001b[0m\u001b[0;34m)\u001b[0m\u001b[0;34m\u001b[0m\u001b[0;34m\u001b[0m\u001b[0m\n\u001b[0;32m---> 67\u001b[0;31m       \u001b[0;32mraise\u001b[0m \u001b[0me\u001b[0m\u001b[0;34m.\u001b[0m\u001b[0mwith_traceback\u001b[0m\u001b[0;34m(\u001b[0m\u001b[0mfiltered_tb\u001b[0m\u001b[0;34m)\u001b[0m \u001b[0;32mfrom\u001b[0m \u001b[0;32mNone\u001b[0m\u001b[0;34m\u001b[0m\u001b[0;34m\u001b[0m\u001b[0m\n\u001b[0m\u001b[1;32m     68\u001b[0m     \u001b[0;32mfinally\u001b[0m\u001b[0;34m:\u001b[0m\u001b[0;34m\u001b[0m\u001b[0;34m\u001b[0m\u001b[0m\n\u001b[1;32m     69\u001b[0m       \u001b[0;32mdel\u001b[0m \u001b[0mfiltered_tb\u001b[0m\u001b[0;34m\u001b[0m\u001b[0;34m\u001b[0m\u001b[0m\n",
            "\u001b[0;32m/usr/local/lib/python3.8/dist-packages/tensorflow/python/eager/execute.py\u001b[0m in \u001b[0;36mquick_execute\u001b[0;34m(op_name, num_outputs, inputs, attrs, ctx, name)\u001b[0m\n\u001b[1;32m     52\u001b[0m   \u001b[0;32mtry\u001b[0m\u001b[0;34m:\u001b[0m\u001b[0;34m\u001b[0m\u001b[0;34m\u001b[0m\u001b[0m\n\u001b[1;32m     53\u001b[0m     \u001b[0mctx\u001b[0m\u001b[0;34m.\u001b[0m\u001b[0mensure_initialized\u001b[0m\u001b[0;34m(\u001b[0m\u001b[0;34m)\u001b[0m\u001b[0;34m\u001b[0m\u001b[0;34m\u001b[0m\u001b[0m\n\u001b[0;32m---> 54\u001b[0;31m     tensors = pywrap_tfe.TFE_Py_Execute(ctx._handle, device_name, op_name,\n\u001b[0m\u001b[1;32m     55\u001b[0m                                         inputs, attrs, num_outputs)\n\u001b[1;32m     56\u001b[0m   \u001b[0;32mexcept\u001b[0m \u001b[0mcore\u001b[0m\u001b[0;34m.\u001b[0m\u001b[0m_NotOkStatusException\u001b[0m \u001b[0;32mas\u001b[0m \u001b[0me\u001b[0m\u001b[0;34m:\u001b[0m\u001b[0;34m\u001b[0m\u001b[0;34m\u001b[0m\u001b[0m\n",
            "\u001b[0;31mInvalidArgumentError\u001b[0m: Graph execution error:\n\nDetected at node 'sequential_1/flatten_1/Reshape' defined at (most recent call last):\n    File \"/usr/lib/python3.8/runpy.py\", line 194, in _run_module_as_main\n      return _run_code(code, main_globals, None,\n    File \"/usr/lib/python3.8/runpy.py\", line 87, in _run_code\n      exec(code, run_globals)\n    File \"/usr/local/lib/python3.8/dist-packages/ipykernel_launcher.py\", line 16, in <module>\n      app.launch_new_instance()\n    File \"/usr/local/lib/python3.8/dist-packages/traitlets/config/application.py\", line 992, in launch_instance\n      app.start()\n    File \"/usr/local/lib/python3.8/dist-packages/ipykernel/kernelapp.py\", line 612, in start\n      self.io_loop.start()\n    File \"/usr/local/lib/python3.8/dist-packages/tornado/platform/asyncio.py\", line 149, in start\n      self.asyncio_loop.run_forever()\n    File \"/usr/lib/python3.8/asyncio/base_events.py\", line 570, in run_forever\n      self._run_once()\n    File \"/usr/lib/python3.8/asyncio/base_events.py\", line 1859, in _run_once\n      handle._run()\n    File \"/usr/lib/python3.8/asyncio/events.py\", line 81, in _run\n      self._context.run(self._callback, *self._args)\n    File \"/usr/local/lib/python3.8/dist-packages/tornado/ioloop.py\", line 690, in <lambda>\n      lambda f: self._run_callback(functools.partial(callback, future))\n    File \"/usr/local/lib/python3.8/dist-packages/tornado/ioloop.py\", line 743, in _run_callback\n      ret = callback()\n    File \"/usr/local/lib/python3.8/dist-packages/tornado/gen.py\", line 787, in inner\n      self.run()\n    File \"/usr/local/lib/python3.8/dist-packages/tornado/gen.py\", line 748, in run\n      yielded = self.gen.send(value)\n    File \"/usr/local/lib/python3.8/dist-packages/ipykernel/kernelbase.py\", line 365, in process_one\n      yield gen.maybe_future(dispatch(*args))\n    File \"/usr/local/lib/python3.8/dist-packages/tornado/gen.py\", line 209, in wrapper\n      yielded = next(result)\n    File \"/usr/local/lib/python3.8/dist-packages/ipykernel/kernelbase.py\", line 268, in dispatch_shell\n      yield gen.maybe_future(handler(stream, idents, msg))\n    File \"/usr/local/lib/python3.8/dist-packages/tornado/gen.py\", line 209, in wrapper\n      yielded = next(result)\n    File \"/usr/local/lib/python3.8/dist-packages/ipykernel/kernelbase.py\", line 543, in execute_request\n      self.do_execute(\n    File \"/usr/local/lib/python3.8/dist-packages/tornado/gen.py\", line 209, in wrapper\n      yielded = next(result)\n    File \"/usr/local/lib/python3.8/dist-packages/ipykernel/ipkernel.py\", line 306, in do_execute\n      res = shell.run_cell(code, store_history=store_history, silent=silent)\n    File \"/usr/local/lib/python3.8/dist-packages/ipykernel/zmqshell.py\", line 536, in run_cell\n      return super(ZMQInteractiveShell, self).run_cell(*args, **kwargs)\n    File \"/usr/local/lib/python3.8/dist-packages/IPython/core/interactiveshell.py\", line 2854, in run_cell\n      result = self._run_cell(\n    File \"/usr/local/lib/python3.8/dist-packages/IPython/core/interactiveshell.py\", line 2881, in _run_cell\n      return runner(coro)\n    File \"/usr/local/lib/python3.8/dist-packages/IPython/core/async_helpers.py\", line 68, in _pseudo_sync_runner\n      coro.send(None)\n    File \"/usr/local/lib/python3.8/dist-packages/IPython/core/interactiveshell.py\", line 3057, in run_cell_async\n      has_raised = await self.run_ast_nodes(code_ast.body, cell_name,\n    File \"/usr/local/lib/python3.8/dist-packages/IPython/core/interactiveshell.py\", line 3249, in run_ast_nodes\n      if (await self.run_code(code, result,  async_=asy)):\n    File \"/usr/local/lib/python3.8/dist-packages/IPython/core/interactiveshell.py\", line 3326, in run_code\n      exec(code_obj, self.user_global_ns, self.user_ns)\n    File \"<ipython-input-34-ad20ac47236f>\", line 16, in <module>\n      get_accuracy(vgg16_model_path,test_images_datagen,vgg16_model_acc_path)\n    File \"<ipython-input-34-ad20ac47236f>\", line 11, in get_accuracy\n      loss,accuracy = model.evaluate(test_datagen,batch_size = 128)\n    File \"/usr/local/lib/python3.8/dist-packages/keras/utils/traceback_utils.py\", line 64, in error_handler\n      return fn(*args, **kwargs)\n    File \"/usr/local/lib/python3.8/dist-packages/keras/engine/training.py\", line 1756, in evaluate\n      tmp_logs = self.test_function(iterator)\n    File \"/usr/local/lib/python3.8/dist-packages/keras/engine/training.py\", line 1557, in test_function\n      return step_function(self, iterator)\n    File \"/usr/local/lib/python3.8/dist-packages/keras/engine/training.py\", line 1546, in step_function\n      outputs = model.distribute_strategy.run(run_step, args=(data,))\n    File \"/usr/local/lib/python3.8/dist-packages/keras/engine/training.py\", line 1535, in run_step\n      outputs = model.test_step(data)\n    File \"/usr/local/lib/python3.8/dist-packages/keras/engine/training.py\", line 1499, in test_step\n      y_pred = self(x, training=False)\n    File \"/usr/local/lib/python3.8/dist-packages/keras/utils/traceback_utils.py\", line 64, in error_handler\n      return fn(*args, **kwargs)\n    File \"/usr/local/lib/python3.8/dist-packages/keras/engine/training.py\", line 490, in __call__\n      return super().__call__(*args, **kwargs)\n    File \"/usr/local/lib/python3.8/dist-packages/keras/utils/traceback_utils.py\", line 64, in error_handler\n      return fn(*args, **kwargs)\n    File \"/usr/local/lib/python3.8/dist-packages/keras/engine/base_layer.py\", line 1014, in __call__\n      outputs = call_fn(inputs, *args, **kwargs)\n    File \"/usr/local/lib/python3.8/dist-packages/keras/utils/traceback_utils.py\", line 92, in error_handler\n      return fn(*args, **kwargs)\n    File \"/usr/local/lib/python3.8/dist-packages/keras/engine/sequential.py\", line 374, in call\n      return super(Sequential, self).call(inputs, training=training, mask=mask)\n    File \"/usr/local/lib/python3.8/dist-packages/keras/engine/functional.py\", line 458, in call\n      return self._run_internal_graph(\n    File \"/usr/local/lib/python3.8/dist-packages/keras/engine/functional.py\", line 596, in _run_internal_graph\n      outputs = node.layer(*args, **kwargs)\n    File \"/usr/local/lib/python3.8/dist-packages/keras/utils/traceback_utils.py\", line 64, in error_handler\n      return fn(*args, **kwargs)\n    File \"/usr/local/lib/python3.8/dist-packages/keras/engine/base_layer.py\", line 1014, in __call__\n      outputs = call_fn(inputs, *args, **kwargs)\n    File \"/usr/local/lib/python3.8/dist-packages/keras/utils/traceback_utils.py\", line 92, in error_handler\n      return fn(*args, **kwargs)\n    File \"/usr/local/lib/python3.8/dist-packages/keras/layers/reshaping/flatten.py\", line 98, in call\n      return tf.reshape(inputs, flattened_shape)\nNode: 'sequential_1/flatten_1/Reshape'\nInput to reshape is a tensor with 204800 values, but the requested shape requires a multiple of 3136\n\t [[{{node sequential_1/flatten_1/Reshape}}]] [Op:__inference_test_function_35914]"
          ]
        }
      ]
    },
    {
      "cell_type": "markdown",
      "metadata": {
        "id": "ggbfLA4e0n9k"
      },
      "source": [
        "# **Retrieve Accuracy From Pickle File**"
      ]
    },
    {
      "cell_type": "code",
      "metadata": {
        "id": "dX0-qeet_NAe"
      },
      "source": [
        "def show_accuracy(model:str,acc_path:str)->None:\n",
        "  '''\n",
        "    The model accuracy is originally stored in the drive folder for the sake of simplicity, we refer the \n",
        "    pickle file path and fetch accuarcy info of the respective model and print their accuracy\n",
        "\n",
        "    params: accuracy_path\n",
        "    return: None\n",
        "  '''\n",
        "\n",
        "  with open(acc_path,'rb') as pickle_file:\n",
        "    bin = pickle.loads(pickle_file.read()) \n",
        "    \n",
        "    acc = round((bin[1]),3)*100\n",
        "    print(f'Accuracy for {model}  : {acc}%')"
      ],
      "execution_count": null,
      "outputs": []
    },
    {
      "cell_type": "code",
      "metadata": {
        "id": "8XQ9p6myJLso"
      },
      "source": [
        "show_accuracy('ResNet',resnet50_base_acc_pickle_path)"
      ],
      "execution_count": null,
      "outputs": []
    },
    {
      "cell_type": "markdown",
      "source": [
        "# **Installing Dependencies For Flask REST-API**"
      ],
      "metadata": {
        "id": "58Muav-dkT1l"
      }
    },
    {
      "cell_type": "code",
      "source": [
        "!pip install flask-ngrok"
      ],
      "metadata": {
        "colab": {
          "base_uri": "https://localhost:8080/"
        },
        "id": "Vqt2IIv9kaOd",
        "outputId": "2b5f23a4-73dd-4dd4-e428-6540f8f658ec"
      },
      "execution_count": null,
      "outputs": [
        {
          "output_type": "stream",
          "name": "stdout",
          "text": [
            "Looking in indexes: https://pypi.org/simple, https://us-python.pkg.dev/colab-wheels/public/simple/\n",
            "Collecting flask-ngrok\n",
            "  Downloading flask_ngrok-0.0.25-py3-none-any.whl (3.1 kB)\n",
            "Requirement already satisfied: requests in /usr/local/lib/python3.8/dist-packages (from flask-ngrok) (2.25.1)\n",
            "Requirement already satisfied: Flask>=0.8 in /usr/local/lib/python3.8/dist-packages (from flask-ngrok) (1.1.4)\n",
            "Requirement already satisfied: click<8.0,>=5.1 in /usr/local/lib/python3.8/dist-packages (from Flask>=0.8->flask-ngrok) (7.1.2)\n",
            "Requirement already satisfied: Werkzeug<2.0,>=0.15 in /usr/local/lib/python3.8/dist-packages (from Flask>=0.8->flask-ngrok) (1.0.1)\n",
            "Requirement already satisfied: itsdangerous<2.0,>=0.24 in /usr/local/lib/python3.8/dist-packages (from Flask>=0.8->flask-ngrok) (1.1.0)\n",
            "Requirement already satisfied: Jinja2<3.0,>=2.10.1 in /usr/local/lib/python3.8/dist-packages (from Flask>=0.8->flask-ngrok) (2.11.3)\n",
            "Requirement already satisfied: idna<3,>=2.5 in /usr/local/lib/python3.8/dist-packages (from requests->flask-ngrok) (2.10)\n",
            "Requirement already satisfied: chardet<5,>=3.0.2 in /usr/local/lib/python3.8/dist-packages (from requests->flask-ngrok) (4.0.0)\n",
            "Requirement already satisfied: urllib3<1.27,>=1.21.1 in /usr/local/lib/python3.8/dist-packages (from requests->flask-ngrok) (1.24.3)\n",
            "Requirement already satisfied: certifi>=2017.4.17 in /usr/local/lib/python3.8/dist-packages (from requests->flask-ngrok) (2022.12.7)\n",
            "Requirement already satisfied: MarkupSafe>=0.23 in /usr/local/lib/python3.8/dist-packages (from Jinja2<3.0,>=2.10.1->Flask>=0.8->flask-ngrok) (2.0.1)\n",
            "Installing collected packages: flask-ngrok\n",
            "Successfully installed flask-ngrok-0.0.25\n"
          ]
        }
      ]
    },
    {
      "cell_type": "code",
      "source": [
        "!python3 /content/drive/MyDrive/REST-API-For-DCNN-Models-master/flask-api/app.py"
      ],
      "metadata": {
        "colab": {
          "base_uri": "https://localhost:8080/"
        },
        "id": "R5UfG7m0kimh",
        "outputId": "aad0b257-662d-4b7a-a4da-69649deba1c7"
      },
      "execution_count": null,
      "outputs": [
        {
          "output_type": "stream",
          "name": "stdout",
          "text": [
            " * Serving Flask app \"app\" (lazy loading)\n",
            " * Environment: production\n",
            "\u001b[31m   WARNING: This is a development server. Do not use it in a production deployment.\u001b[0m\n",
            "\u001b[2m   Use a production WSGI server instead.\u001b[0m\n",
            " * Debug mode: off\n",
            "INFO:werkzeug: * Running on http://127.0.0.1:5000/ (Press CTRL+C to quit)\n",
            " * Running on http://6c3c-34-87-77-250.ngrok.io\n",
            " * Traffic stats available on http://127.0.0.1:4040\n",
            "INFO:werkzeug:127.0.0.1 - - [13/Jan/2023 05:39:11] \"\u001b[37mHEAD / HTTP/1.1\u001b[0m\" 200 -\n",
            "INFO:werkzeug:127.0.0.1 - - [13/Jan/2023 05:39:24] \"\u001b[37mGET / HTTP/1.1\u001b[0m\" 200 -\n"
          ]
        }
      ]
    },
    {
      "cell_type": "code",
      "source": [],
      "metadata": {
        "id": "jyvweHnUodMc"
      },
      "execution_count": null,
      "outputs": []
    }
  ]
}