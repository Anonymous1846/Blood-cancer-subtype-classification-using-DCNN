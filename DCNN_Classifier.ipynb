{
  "nbformat": 4,
  "nbformat_minor": 0,
  "metadata": {
    "colab": {
      "provenance": [],
      "include_colab_link": true
    },
    "kernelspec": {
      "display_name": "Python 3",
      "name": "python3"
    },
    "accelerator": "GPU",
    "gpuClass": "standard"
  },
  "cells": [
    {
      "cell_type": "markdown",
      "metadata": {
        "id": "view-in-github",
        "colab_type": "text"
      },
      "source": [
        "<a href=\"https://colab.research.google.com/github/Anonymous1846/Blood-cancer-subtype-classification-using-DCNN/blob/master/DCNN_Classifier.ipynb\" target=\"_parent\"><img src=\"https://colab.research.google.com/assets/colab-badge.svg\" alt=\"Open In Colab\"/></a>"
      ]
    },
    {
      "cell_type": "markdown",
      "metadata": {
        "id": "bz8z3s6bmZ-L"
      },
      "source": [
        "# **Problem Statement**"
      ]
    },
    {
      "cell_type": "code",
      "metadata": {
        "colab": {
          "base_uri": "https://localhost:8080/"
        },
        "id": "A7XLGtoAl0zO",
        "outputId": "b135467f-c436-4aa4-a422-c06cc18d3bd9"
      },
      "source": [
        "'''\n",
        "Problems Statement : Building a set of multiclass classifiers for luekemia prediction using the CNN and pretrained networks.\n",
        "                     The dataset as of now is obtained from the ALL-IDB1 and ALL-IDB2 and the ASH website.Blood cancer is a \n",
        "                     type of cancer that affects blood cells and is caused by DNA mutations. It can be difficult to identify \n",
        "                     and is often detected when blood cells begin to behave abnormally. Machine learning algorithms and manual \n",
        "                     image processing techniques have been used to extract key information about cancer cells. The proposed \n",
        "                     system uses advanced Convolutional Neural Network algorithms and a user-friendly interface to predict the \n",
        "                     subtype of cancer,and transfer learning and fine tuning methods are used to improve the performance of the \n",
        "                     CNN models.This system can aid in early cancer detection and therapy.\n",
        "''' \n",
        "import keras          #to check version, some APIs may not work in newer versions!\n",
        "print(keras.__version__)"
      ],
      "execution_count": 2,
      "outputs": [
        {
          "output_type": "stream",
          "name": "stdout",
          "text": [
            "2.9.0\n"
          ]
        }
      ]
    },
    {
      "cell_type": "markdown",
      "metadata": {
        "id": "Q_JFZFFZFzII"
      },
      "source": [
        "# **Loading The Dataset From Google Drive.**"
      ]
    },
    {
      "cell_type": "code",
      "metadata": {
        "id": "fm-5FTeSxHP4"
      },
      "source": [
        "'''\n",
        "This is an optional block of code which can be executed if the \n",
        "google drive needs to be mounted on different account\n",
        "'''\n",
        "\n",
        "from google.colab import drive\n",
        "drive.mount('/content/drive',force_remount=False)"
      ],
      "execution_count": null,
      "outputs": []
    },
    {
      "cell_type": "markdown",
      "metadata": {
        "id": "1hHkfosbhCO-"
      },
      "source": [
        "#**The Path To Training, Validation and Testing Datasets**"
      ]
    },
    {
      "cell_type": "code",
      "metadata": {
        "colab": {
          "base_uri": "https://localhost:8080/"
        },
        "id": "ZNvpvCN5TJqy",
        "outputId": "dbb20815-05fb-40fa-b610-7e8df5713ff1"
      },
      "source": [
        "import os \n",
        "'''\n",
        "The Images required for the training, validation, and testing is found in the /DCNN Datasets directory !\n",
        "\n",
        "DCNN Datasets\n",
        "|\n",
        "|\n",
        "|\n",
        " ---- Training(80 %)\n",
        "      |\n",
        "      |\n",
        "      ----Normal \n",
        "      |\n",
        "      ----ALL\n",
        "      |\n",
        "      ----AML\n",
        "      |\n",
        "      ----CLL\n",
        "      |\n",
        "      ----CML\n",
        "|\n",
        "|\n",
        "---- Validation (10 %)\n",
        "      |\n",
        "      |\n",
        "      ----Normal \n",
        "      |\n",
        "      ----ALL\n",
        "      |\n",
        "      ----AML\n",
        "      |\n",
        "      ----CLL\n",
        "      |\n",
        "      ----CML\n",
        "|\n",
        "|\n",
        "---- Testing (10 %)\n",
        "      |\n",
        "      |\n",
        "      ----Normal \n",
        "      |\n",
        "      ----ALL\n",
        "      |\n",
        "      ----AML\n",
        "      |\n",
        "      ----CLL\n",
        "      |\n",
        "      ----CML\n",
        "\n",
        "      The images/dataset is divided into 80% training, 10% testing and 10% validation\n",
        "'''\n",
        "training_data_path    = \"/content/drive/MyDrive/DCNN Datasets/Training\"\n",
        "validation_data_path  = \"/content/drive/MyDrive/DCNN Datasets/Validation\"\n",
        "testing_data_path     = \"/content/drive/MyDrive/DCNN Datasets/Testing\"\n",
        "\n",
        "print(f'The Training Images Path   :  {training_data_path}')\n",
        "print(f'The Validation Images Path :  {validation_data_path}')\n",
        "print(f'The Testing Images Path    :  {testing_data_path}')\n"
      ],
      "execution_count": null,
      "outputs": [
        {
          "output_type": "stream",
          "name": "stdout",
          "text": [
            "The Training Images Path   :  /content/drive/MyDrive/DCNN Datasets/Training\n",
            "The Validation Images Path :  /content/drive/MyDrive/DCNN Datasets/Validation\n",
            "The Testing Images Path    :  /content/drive/MyDrive/DCNN Datasets/Testing\n"
          ]
        }
      ]
    },
    {
      "cell_type": "code",
      "source": [
        "CATEGORIES = 5 #indicating normal, ALL, AML, CLL, CML."
      ],
      "metadata": {
        "id": "6crVs2N2O42e"
      },
      "execution_count": 18,
      "outputs": []
    },
    {
      "cell_type": "markdown",
      "metadata": {
        "id": "9yT7JaUnVPpU"
      },
      "source": [
        "# **Image Preprocessing for Custom and AlexNet models**"
      ]
    },
    {
      "cell_type": "code",
      "source": [
        "from keras.preprocessing.image import ImageDataGenerator"
      ],
      "metadata": {
        "id": "zC0cKIXdc2V6"
      },
      "execution_count": 6,
      "outputs": []
    },
    {
      "cell_type": "code",
      "metadata": {
        "id": "qPeiTL-oVTay"
      },
      "source": [
        "'''\n",
        "Image preprocessing and augmentation code for normal and AlexNet models,\n",
        "here we have manually specified the parameters for manipulating the images\n",
        "Operations include shearing, flipping(both horizontal and vertical) zooming\n",
        "and filling of data.\n",
        "'''\n",
        "training_images_preprocessed = ImageDataGenerator(rescale=1./255,\n",
        "                                                  rotation_range=40,\n",
        "                                                  width_shift_range=0.2,\n",
        "                                                  height_shift_range=0.2,\n",
        "                                                  shear_range=0.2,\n",
        "                                                  zoom_range=0.2,\n",
        "                                                  horizontal_flip=True,\n",
        "                                                  vertical_flip=True,\n",
        "                                                  fill_mode='nearest')\n",
        "\n",
        "validate_images_preprocessed = ImageDataGenerator(rescale=1./255)"
      ],
      "execution_count": 5,
      "outputs": []
    },
    {
      "cell_type": "markdown",
      "metadata": {
        "id": "cVD91RrJ36PC"
      },
      "source": [
        "# **Image Pre-Processing For resnet50_base50**"
      ]
    },
    {
      "cell_type": "code",
      "metadata": {
        "id": "DdO5HIKZ35wM"
      },
      "source": [
        "'''\n",
        "This block is only applicable to Transfer Learning  ResNet50 !\n",
        "'''\n",
        "\n",
        "from keras.applications.resnet import preprocess_input\n",
        "training_images_preprocessed=ImageDataGenerator(preprocessing_function=preprocess_input)\n",
        "\n",
        "validate_images_preprocessed = ImageDataGenerator(preprocessing_function=preprocess_input)"
      ],
      "execution_count": 7,
      "outputs": []
    },
    {
      "cell_type": "markdown",
      "source": [
        "# **Image Pre-Processing For Inceptionv3**"
      ],
      "metadata": {
        "id": "1-p9G5M8kKsL"
      }
    },
    {
      "cell_type": "code",
      "source": [
        "'''\n",
        "This block is only applicable to Transfer Learning InceptionV3 !\n",
        "'''\n",
        "\n",
        "from keras.applications.inception_v3 import preprocess_input\n",
        "training_images_preprocessed=ImageDataGenerator(preprocessing_function=preprocess_input)\n",
        "\n",
        "validate_images_preprocessed = ImageDataGenerator(preprocessing_function=preprocess_input)"
      ],
      "metadata": {
        "id": "X0DjKJtO1NPq"
      },
      "execution_count": null,
      "outputs": []
    },
    {
      "cell_type": "markdown",
      "source": [
        "# **Image Pre-Processing For VGG 16**"
      ],
      "metadata": {
        "id": "3ofBFoaNwtM8"
      }
    },
    {
      "cell_type": "code",
      "source": [
        "'''\n",
        "This block is only applicable to Transfer Learning  VGG 16 !\n",
        "'''\n",
        "\n",
        "from keras.applications.vgg16 import preprocess_input \n",
        "training_images_preprocessed = ImageDataGenerator(preprocessing_function=preprocess_input)\n",
        "\n",
        "validate_images_preprocessed = ImageDataGenerator(preprocessing_function=preprocess_input)"
      ],
      "metadata": {
        "id": "Tm7OP09nwlGk"
      },
      "execution_count": null,
      "outputs": []
    },
    {
      "cell_type": "markdown",
      "source": [
        "# **Model Dictionary for Storing Image Diemensions**"
      ],
      "metadata": {
        "id": "MfDyTPqwV8RF"
      }
    },
    {
      "cell_type": "code",
      "metadata": {
        "id": "3DCGcbxQ09wm"
      },
      "source": [
        "'''\n",
        "For the purpose of setting the image diemensions for training the models we have assigned\n",
        "key-value pairs for model:(width,height) so that the appropriate model gets appropriate\n",
        "diemensions.\n",
        "'''\n",
        "\n",
        "model_dict = {'AlexNet':(227,227),\n",
        "              'Custom':(300,300),\n",
        "              'ResNet':(224,224),\n",
        "              'VGG 16':(224,224),\n",
        "              'InceptionV3':(139,139)}\n",
        "\n",
        "architecture ='VGG 16'            #the current model to be trained/tested"
      ],
      "execution_count": 8,
      "outputs": []
    },
    {
      "cell_type": "markdown",
      "metadata": {
        "id": "xGPm_71JXPeC"
      },
      "source": [
        "# **Applying the Image Augmentation to Datasets !**"
      ]
    },
    {
      "cell_type": "code",
      "metadata": {
        "colab": {
          "base_uri": "https://localhost:8080/"
        },
        "id": "G9G6VPiSXVsR",
        "outputId": "a2fb3f77-bfe5-47d6-b5ea-9957b7f635c0"
      },
      "source": [
        "def apply_augmentation(data_directory,processing_mode,flag):\n",
        "  '''\n",
        "    The function augments the data, according to the processing mode.\n",
        "    The processing mode has defined earlier seperately for training and validation set !\n",
        "\n",
        "    params: training/validation directory,\n",
        "            the processing mode(different for training and validation dataset), \n",
        "            flag for model !\n",
        "\n",
        "    return: augmented data \n",
        "  '''\n",
        "  data_gen = processing_mode.flow_from_directory(\n",
        "  data_directory,                               \n",
        "  target_size = model_dict[flag],               \n",
        "  batch_size = 128,                             \n",
        "  class_mode='categorical')\n",
        "  print(f'Image Shape : {model_dict[flag]}')\n",
        "  return data_gen\n",
        "\n",
        "\n",
        "training_images_datagen = apply_augmentation(training_data_path,            \n",
        "                                             training_images_preprocessed,  \n",
        "                                             architecture)                  \n",
        "\n",
        "valid_images_datagen = apply_augmentation(validation_data_path,             \n",
        "                                          validate_images_preprocessed,\n",
        "                                          architecture)\n",
        "\n",
        "test_images_datagen = apply_augmentation(testing_data_path,                 \n",
        "                                         validate_images_preprocessed,\n",
        "                                         architecture)\n",
        "\n",
        "print(training_images_datagen.class_indices)          #class indices may give idea of the indices of corresponding cells\n"
      ],
      "execution_count": null,
      "outputs": [
        {
          "output_type": "stream",
          "name": "stdout",
          "text": [
            "Found 341 images belonging to 5 classes.\n",
            "Image Shape : (224, 224)\n",
            "Found 52 images belonging to 5 classes.\n",
            "Image Shape : (224, 224)\n",
            "Found 51 images belonging to 5 classes.\n",
            "Image Shape : (224, 224)\n",
            "{'ALL': 0, 'AML': 1, 'CLL': 2, 'CML': 3, 'Normal': 4}\n"
          ]
        }
      ]
    },
    {
      "cell_type": "markdown",
      "metadata": {
        "id": "lbC-FfxiDtCO"
      },
      "source": [
        "#**Using the mean pixel we have calculated the number of features !**"
      ]
    },
    {
      "cell_type": "code",
      "metadata": {
        "id": "wtkmIsQNDssN",
        "colab": {
          "base_uri": "https://localhost:8080/"
        },
        "outputId": "1fdf0cae-2867-4c2a-8808-6b30e3aa7b30"
      },
      "source": [
        "from cv2 import imread\n",
        "\n",
        "sample_image = imread('/content/drive/MyDrive/DCNN Datasets/Training/CLL/61676-CLL cells with cytoplasmic vacuoles.Jpeg')\n",
        "print(\"The diemensions of the cancer cell: {}\".format(sample_image.shape))\n",
        "feature_matrix = np.zeros((sample_image.shape[0], sample_image.shape[1])) # for cancer cell\n",
        "\n",
        "\n",
        "def show_features(feature_matrix,img):\n",
        "  '''\n",
        "    The function will calculate the mean pixels values which are essential in understanding the number of possible \n",
        "    values/ features in the image !\n",
        "\n",
        "    params: fetaure matrix, image\n",
        "\n",
        "    return: None\n",
        "  '''\n",
        "  for i in range(1,img.shape[0]):\n",
        "    for j in range(1,img.shape[1]):\n",
        "        feature_matrix[i][j] = ((int(img[i,j,0]) + int(img[i,j,1]) + int(img[i,j,2]))/3) # mean for three channels !\n",
        "\n",
        "  features = np.reshape(feature_matrix, (img.shape[0]*img.shape[1])) \n",
        "  print(\"The mean pixels values for the cancer cells: {}\".format(features.shape[0]))\n",
        "\n",
        "show_features(feature_matrix,sample_image) # for cancer cell \n"
      ],
      "execution_count": null,
      "outputs": [
        {
          "output_type": "stream",
          "name": "stdout",
          "text": [
            "The diemensions of the cancer cell: (784, 1000, 3)\n",
            "The mean pixels values for the cancer cells: 784000\n"
          ]
        }
      ]
    },
    {
      "cell_type": "markdown",
      "metadata": {
        "id": "psRQ77sbYuqN"
      },
      "source": [
        "# **Representation of Images.**"
      ]
    },
    {
      "cell_type": "code",
      "metadata": {
        "colab": {
          "base_uri": "https://localhost:8080/",
          "height": 312
        },
        "id": "W3oV8CEwY6p8",
        "outputId": "6afa137c-8441-490c-a76c-3c58b2d1071c"
      },
      "source": [
        "import matplotlib.pyplot as plt \n",
        "def plot(image):\n",
        "  '''\n",
        "    The function is used to plot the augmented figures of the images, for visual demonstartion !\n",
        "\n",
        "    params: image object\n",
        "    return: None\n",
        "  '''\n",
        "  fig,axes=plt.subplots(1,5,figsize=(20,20))    # 20 x 20 images \n",
        "  axes=axes.flatten()\n",
        "  for imag,axis in zip(image,axes):              #iterate through the images matplotlib and cv2\n",
        "    axis.imshow(imag)\n",
        "  plt.tight_layout()\n",
        "  plt.show()\n",
        "\n",
        "training_images_datagen.class_indices\n",
        "sample_images=[training_images_datagen[0][0][0] for i in range(5)]\n",
        "plot(sample_images)"
      ],
      "execution_count": null,
      "outputs": [
        {
          "output_type": "stream",
          "name": "stderr",
          "text": [
            "WARNING:matplotlib.image:Clipping input data to the valid range for imshow with RGB data ([0..1] for floats or [0..255] for integers).\n",
            "WARNING:matplotlib.image:Clipping input data to the valid range for imshow with RGB data ([0..1] for floats or [0..255] for integers).\n",
            "WARNING:matplotlib.image:Clipping input data to the valid range for imshow with RGB data ([0..1] for floats or [0..255] for integers).\n",
            "WARNING:matplotlib.image:Clipping input data to the valid range for imshow with RGB data ([0..1] for floats or [0..255] for integers).\n",
            "WARNING:matplotlib.image:Clipping input data to the valid range for imshow with RGB data ([0..1] for floats or [0..255] for integers).\n"
          ]
        },
        {
          "output_type": "display_data",
          "data": {
            "text/plain": [
              "<Figure size 1440x1440 with 5 Axes>"
            ],
            "image/png": "[encoded data removed]"
          },
          "metadata": {
            "needs_background": "light"
          }
        }
      ]
    },
    {
      "cell_type": "markdown",
      "metadata": {
        "id": "6ExfBhm4YE0f"
      },
      "source": [
        "# **Multiclass Test Classifier !**"
      ]
    },
    {
      "cell_type": "code",
      "source": [
        "from keras.layers import MaxPooling2D,Conv2D,Dropout,Dense,Flatten,BatchNormalization,MaxPool2D,AveragePooling2D,GlobalAveragePooling2D\n",
        "from keras.models import Sequential"
      ],
      "metadata": {
        "id": "mSoEHjz8dZW7"
      },
      "execution_count": 16,
      "outputs": []
    },
    {
      "cell_type": "code",
      "metadata": {
        "id": "66QFUFr1YNlW"
      },
      "source": [
        "'''\n",
        "The CNN model is used to predict whether the given data image is of ALL,AML,CLL,CML or Normal type,\n",
        "it contains 5 convolution and corresponding number of maxpooling layers.\n",
        "RelU function is added to each layer so that it can introduce non-linearity and \n",
        "avoid the negative values !\n",
        "'''\n",
        "\n",
        "custom_model  =  Sequential([Conv2D(16, (3,3), activation='relu', input_shape=(300, 300, 3)), \n",
        "                          MaxPooling2D(2, 2),\n",
        "                          Conv2D(32, (3,3), activation='relu'),\n",
        "                          MaxPooling2D(2,2),                                    \n",
        "                          Conv2D(64, (3,3), activation='relu'),\n",
        "                          MaxPooling2D(2,2),                                   \n",
        "                          Conv2D(64, (3,3), activation='relu'), \n",
        "                          MaxPooling2D(2,2),                                   \n",
        "                          Conv2D(64, (3,3), activation='relu'), \n",
        "                          MaxPooling2D(2,2),                                   \n",
        "                          Flatten(),                                                         \n",
        "                          Dense(512, activation='relu'),\n",
        "                          Dense(CATEGORIES, activation='softmax')])       #softmax gives prediction values for cancer cells\n",
        "\n",
        "custom_model.summary()"
      ],
      "execution_count": null,
      "outputs": []
    },
    {
      "cell_type": "markdown",
      "metadata": {
        "id": "sD7ModzzAYbr"
      },
      "source": [
        "# **Multiclass Classifier Based On AlexNet**"
      ]
    },
    {
      "cell_type": "code",
      "metadata": {
        "id": "s6K8U_fjAYGC"
      },
      "source": [
        "'''\n",
        "Implementation of the AlexNet architecture, which is an common architecture of the CNN model\n",
        "The AlexNet Alrchitecture has been modified since, the original one is capable of classifiying\n",
        "upto 1000 tensors, and requires more computational power !\n",
        "'''\n",
        "\n",
        "alexnet_model =Sequential([\n",
        "                    Conv2D(96, (11, 11), strides=(4,4), activation='relu', input_shape=(227, 227, 3)),\n",
        "                    BatchNormalization(),\n",
        "                    MaxPooling2D((3, 3),strides=(2,2)),\n",
        "                    Conv2D(256, (5, 5),padding='same', activation='relu'),                    \n",
        "                    MaxPooling2D((3, 3),strides=(2, 2)),\n",
        "                    Conv2D(384, (3, 3), padding='same',activation='relu'),\n",
        "                    Conv2D(384, (3, 3), padding='same',activation='relu'),\n",
        "                    Conv2D(256, (3, 3), padding='same',activation='relu'),\n",
        "                    MaxPooling2D((3, 3),strides=(2, 2)),\n",
        "                    Flatten(),\n",
        "                    Dense(4096, activation='relu'),                 \n",
        "                    Dropout(0.5),\n",
        "                    Dense(4096, activation='relu'),                \n",
        "                    Dropout(0.5),\n",
        "                    Dense(CATEGORIES, activation='softmax')])\n",
        "\n",
        "alexnet_model.summary()"
      ],
      "execution_count": null,
      "outputs": []
    },
    {
      "cell_type": "markdown",
      "source": [
        "# **Multiclass Classifier Based On VGG 16**"
      ],
      "metadata": {
        "id": "DhKRDOYXxBoE"
      }
    },
    {
      "cell_type": "code",
      "source": [
        "'''\n",
        "  VGG-16 is a convolutional neural network model trained on the ImageNet dataset. \n",
        "  The model is characterized by its deep architecture, which consists of 16 layers, \n",
        "  including 13 convolutional layers and 3 fully connected layers. The convolutional layers \n",
        "  are organized into 5 blocks, with each block containing multiple convolutional layers\n",
        "  and a max pooling layer. The model takes an image as input and classifies it into one \n",
        "  of 1000 object categories.The VGG-16 model is widely used as a base model for image \n",
        "  classification and object detection tasks.\n",
        "'''\n",
        "\n",
        "from keras.applications.vgg16 import VGG16  \n",
        "\n",
        "# referencing the base model with imagenet weights and removing the top layers for fine-tuning\n",
        "vgg16_base =  VGG16(weights='imagenet',\n",
        "              include_top = False,\n",
        "              input_shape = (224, 224, 3))\n",
        "\n",
        "trainable = False\n",
        "\n",
        "for layer in vgg16_base.layers:\n",
        "    if layer.name == 'block5_conv1':\n",
        "        trainable = True\n",
        "    if trainable:\n",
        "        layer.trainable = True\n",
        "    else:\n",
        "        layer.trainable = False\n",
        "\n",
        "#fine-tuning the vgg16 model to classify the 5 types of cells\n",
        "vgg16_model = Sequential([vgg16_base,\n",
        "                          Flatten(),\n",
        "                          Dropout(0.5),\n",
        "                          Dense(256,activation='relu'),\n",
        "                          Dense(CATEGORIES,activation='softmax')])\n",
        "\n",
        "vgg16_model.summary()"
      ],
      "metadata": {
        "id": "fnUdpd8uw-da",
        "outputId": "66458527-11f6-4b23-ab2e-f8d871aef750",
        "colab": {
          "base_uri": "https://localhost:8080/"
        }
      },
      "execution_count": null,
      "outputs": [
        {
          "output_type": "stream",
          "name": "stdout",
          "text": [
            "Downloading data from https://storage.googleapis.com/tensorflow/keras-applications/vgg16/vgg16_weights_tf_dim_ordering_tf_kernels_notop.h5\n",
            "58889256/58889256 [==============================] - 2s 0us/step\n",
            "Model: \"sequential\"\n",
            "_________________________________________________________________\n",
            " Layer (type)                Output Shape              Param #   \n",
            "=================================================================\n",
            " vgg16 (Functional)          (None, 7, 7, 512)         14714688  \n",
            "                                                                 \n",
            " flatten (Flatten)           (None, 25088)             0         \n",
            "                                                                 \n",
            " dropout (Dropout)           (None, 25088)             0         \n",
            "                                                                 \n",
            " dense (Dense)               (None, 256)               6422784   \n",
            "                                                                 \n",
            " dense_1 (Dense)             (None, 5)                 1285      \n",
            "                                                                 \n",
            "=================================================================\n",
            "Total params: 21,138,757\n",
            "Trainable params: 13,503,493\n",
            "Non-trainable params: 7,635,264\n",
            "_________________________________________________________________\n"
          ]
        }
      ]
    },
    {
      "cell_type": "markdown",
      "metadata": {
        "id": "9DgfCoeE4fa9"
      },
      "source": [
        "# **Multiclass Classifier Based On ResNet50**"
      ]
    },
    {
      "cell_type": "code",
      "metadata": {
        "id": "cT64MEEA4e3H"
      },
      "source": [
        "'''\n",
        "  ResNet50 is a deep convolutional neural network that was trained on more than a million images from the ImageNet database. \n",
        "  The network is 50 layers deep and can classify images into 1000 object categories, such as keyboard, mouse, pencil, and many animals.\n",
        "  It was developed by researchers at Microsoft Research in 2015, and has since become a popular model for image classification tasks \n",
        "  due to its high accuracy and efficient use of computational resources. The key innovations in ResNet50 are the use of residual \n",
        "  connections and batch normalization, which make it possible to train very deep networks without the problems of vanishing gradients\n",
        "'''\n",
        "\n",
        "from keras.applications.resnet import ResNet50   \n",
        "\n",
        "resnet50_base = ResNet50(weights=\"imagenet\", \n",
        "    include_top=False,\n",
        "    input_shape=(224,224,3)\n",
        ")\n",
        "\n",
        "for layer in resnet50_base.layers[:165]:\n",
        "   layer.trainable = False\n",
        "for layer in resnet50_base.layers[165:]:\n",
        "   layer.trainable = True\n",
        "\n",
        "resnet50_model = Sequential(\n",
        "                          [resnet50_base,                         \n",
        "                          Flatten(),\n",
        "                          Dropout(0.5),\n",
        "                          Dense(256,activation='relu'),\n",
        "                          Dropout(0.5),\n",
        "                          Dense(CATEGORIES, activation='softmax')\n",
        "                          ])\n",
        "\n",
        "resnet50_model.summary()"
      ],
      "execution_count": null,
      "outputs": []
    },
    {
      "cell_type": "markdown",
      "source": [
        "# **Multiclass Classifier Based On InceptionV3**"
      ],
      "metadata": {
        "id": "78oleG1J4wdj"
      }
    },
    {
      "cell_type": "code",
      "source": [
        "'''\n",
        "  InceptionV3 is a deep convolutional neural network that was trained for image classification on the ImageNet dataset. \n",
        "  The network is made up of a series of modules, called Inception modules, which are designed to identify and extract a wide variety of features from \n",
        "  an image at multiple scales. The key innovation in InceptionV3 is the use of depthwise separable convolutions, which significantly\n",
        "  reduce the number of parameters in the model, making it more efficient to run on resource-constrained devices. \n",
        "  It also includes a module called the \"auxiliary classifier\" which gives more informations about image during backpropagation, \n",
        "  which enhance its performance. InceptionV3 is widely used in image recognition, and related tasks like object detection and \n",
        "  semantic segmentation, Due to its high accuracy, low computation cost and scalable nature\n",
        "'''\n",
        "\n",
        "from keras.applications import InceptionV3 \n",
        "\n",
        "base_model = InceptionV3(weights='imagenet', \n",
        "                                include_top=False, \n",
        "                                input_shape=(299, 299,3))\n",
        "# base_model.trainable = False\n",
        "add_model = Sequential()\n",
        "add_model.add(base_model)\n",
        "add_model.add(GlobalAveragePooling2D())\n",
        "add_model.add(Dropout(0.5))\n",
        "add_model.add(Dense(CATEGORIES,activation='softmax'))\n",
        "add_model.summary()"
      ],
      "metadata": {
        "id": "IOmUqsfG430J",
        "outputId": "5f8e1fab-b646-4c33-d4c8-7362cfc758eb",
        "colab": {
          "base_uri": "https://localhost:8080/"
        }
      },
      "execution_count": null,
      "outputs": [
        {
          "output_type": "stream",
          "name": "stdout",
          "text": [
            "Model: \"sequential_6\"\n",
            "_________________________________________________________________\n",
            " Layer (type)                Output Shape              Param #   \n",
            "=================================================================\n",
            " inception_v3 (Functional)   (None, 8, 8, 2048)        21802784  \n",
            "                                                                 \n",
            " global_average_pooling2d_2   (None, 2048)             0         \n",
            " (GlobalAveragePooling2D)                                        \n",
            "                                                                 \n",
            " dropout_8 (Dropout)         (None, 2048)              0         \n",
            "                                                                 \n",
            " dense_11 (Dense)            (None, 5)                 10245     \n",
            "                                                                 \n",
            "=================================================================\n",
            "Total params: 21,813,029\n",
            "Trainable params: 21,778,597\n",
            "Non-trainable params: 34,432\n",
            "_________________________________________________________________\n"
          ]
        }
      ]
    },
    {
      "cell_type": "code",
      "source": [
        "base_model.summary()"
      ],
      "metadata": {
        "id": "8eotwA1I9K8j"
      },
      "execution_count": null,
      "outputs": []
    },
    {
      "cell_type": "markdown",
      "metadata": {
        "id": "EVvlM0Zt59cN"
      },
      "source": [
        "# **Compile the model**"
      ]
    },
    {
      "cell_type": "code",
      "metadata": {
        "id": "w5dFUoZ46AMX"
      },
      "source": [
        "'''\n",
        "Compiling the model using the loss function  crossentropy and RMSProp !\n",
        "\n",
        "return : None\n",
        "\n",
        "params : model object \n",
        "'''\n",
        "from tensorflow.keras.optimizers import RMSprop,Adam                              \n",
        "def compile_model(model):\n",
        "  model.compile(loss='categorical_crossentropy',\n",
        "                optimizer=RMSprop(lr=1e-5), #optionally use the Adam with learning rate 0.001 - 1e-5\n",
        "                metrics=['accuracy'])\n",
        "compile_model(custom_model)\n"
      ],
      "execution_count": null,
      "outputs": []
    },
    {
      "cell_type": "markdown",
      "metadata": {
        "id": "utjDFI0vhN-j"
      },
      "source": [
        "# **The Path To Model H5 Files**"
      ]
    },
    {
      "cell_type": "code",
      "metadata": {
        "id": "lQQikA-3D72T"
      },
      "source": [
        "'''\n",
        "The below callback list is used to moniter the validation accuracy, and the save the best version of the\n",
        "CNN model. The paths has been specified for later use !\n",
        "\n",
        "The Classifier model and the history file are saved in the Binary Classifier Models directory, in the format:\n",
        "\n",
        "Model_Name_Directory\n",
        "                | \n",
        "                |\n",
        "                 ---- Model_File.h5\n",
        "                 ---- Model_History.pickle\n",
        "                 -----Model_Test_Acc.pickle\n",
        "'''\n",
        "\n",
        "model_path    = '/content/drive/MyDrive/DCNN Classifier Models /Test Classifier/Test Classifier_Model.h5'\n",
        "alexnet_path  = '/content/drive/MyDrive/DCNN Classifier Models /AlexNet Classifier/AlexNet_Classifier_Model.h5'\n",
        "resnet50_base_path   = '/content/drive/MyDrive/DCNN Classifier Models /resnet50_base Classifier/resnet50_base_Model.h5'\n",
        "vggnet_path   = '/content/drive/MyDrive/DCNN Classifier Models /VGGNet Classifier/VGGNet_Model.h5'\n",
        "googlenet_path   = '/content/drive/MyDrive/DCNN Classifier Models /GoogleNet Classifier/GoogleNet_Model.h5'"
      ],
      "execution_count": null,
      "outputs": []
    },
    {
      "cell_type": "markdown",
      "metadata": {
        "id": "5i-9ZzE5qICk"
      },
      "source": [
        "# **Validation and CallBack Lists**"
      ]
    },
    {
      "cell_type": "markdown",
      "metadata": {
        "id": "1wug3BUMhWoF"
      },
      "source": [
        "# Early Stopping To Prevent Overfitting Of The Models"
      ]
    },
    {
      "cell_type": "code",
      "metadata": {
        "id": "PgWlesAC4SI7"
      },
      "source": [
        "'''\n",
        "Early stopping is a mechanism, which allows to moniter a value, specially the val_loss, and stop the \n",
        "training, at a particular patience level, to avoid overfitting !\n",
        "'''\n",
        "from keras.callbacks import ModelCheckpoint,EarlyStopping \n",
        "early_call_back = EarlyStopping(monitor=\"val_loss\",patience=8,verbose=1,mode=\"auto\",restore_best_weights=True)"
      ],
      "execution_count": null,
      "outputs": []
    },
    {
      "cell_type": "markdown",
      "metadata": {
        "id": "Xj2IHe2phdkI"
      },
      "source": [
        "# Model Check Points To Save The Best Weights"
      ]
    },
    {
      "cell_type": "code",
      "metadata": {
        "id": "kR2Rgy-AQvml"
      },
      "source": [
        "callback_checkpoint=ModelCheckpoint(model_path,monitor='val_accuracy',verbose=1,save_best_only=True,mode='max')\n",
        "callback_checkpoint_list=[callback_checkpoint,early_call_back]#can remove the early stopping if needed !"
      ],
      "execution_count": null,
      "outputs": []
    },
    {
      "cell_type": "markdown",
      "metadata": {
        "id": "UovyYQST6aey"
      },
      "source": [
        "# **Training the datset based on given model !**"
      ]
    },
    {
      "cell_type": "code",
      "metadata": {
        "id": "IASzW7LI6e7N"
      },
      "source": [
        "'''\n",
        "The below function takes in an arguement, which is the model to be trained and it trains the dataset with the specified model\n",
        "epochs:depending on the early stopping\n",
        "\n",
        "Params: model object\n",
        "\n",
        "Return the trained object\n",
        "'''\n",
        "\n",
        "def train_the_model(model):\n",
        "  the_final_train = model.fit(\n",
        "                      training_images_datagen,\n",
        "                      callbacks       = callback_checkpoint_list,\n",
        "                      validation_data = valid_images_datagen,\n",
        "                      steps_per_epoch = 3, #the steps per epoch is set to 2, but cannot be set to more than 3(because of error !) \n",
        "                      epochs          = 80,#100 for regular !\n",
        "                      verbose         = 2,\n",
        "                    )\n",
        "  return the_final_train\n",
        "\n",
        "\n",
        "trained_model=train_the_model(custom_model)"
      ],
      "execution_count": null,
      "outputs": []
    },
    {
      "cell_type": "markdown",
      "metadata": {
        "id": "SnfCsHlkHZzZ"
      },
      "source": [
        "# **Saving History Pickle File !**"
      ]
    },
    {
      "cell_type": "markdown",
      "metadata": {
        "id": "hL7W5be4hky8"
      },
      "source": [
        "# Path To Store The Respective Model Training And Validation Losses"
      ]
    },
    {
      "cell_type": "code",
      "metadata": {
        "id": "uevOvCWNHZex"
      },
      "source": [
        "model_pickle_path    = '/content/drive/MyDrive/DCNN Classifier Models /Test Classifier/Test Classifier_Model.pickle'\n",
        "alexnet_pickle_path  = '/content/drive/MyDrive/DCNN Classifier Models /AlexNet Classifier/AlexNet_Classifier_Model.pickle'\n",
        "resnet50_base_pickle_path   = '/content/drive/MyDrive/DCNN Classifier Models /resnet50_base Classifier/resnet50_base_Model.pickle'\n",
        "vggnet_pickle_path   = '/content/drive/MyDrive/DCNN Classifier Models /VGGNet Classifier/VGGNet_Model.pickle'\n",
        "googlenet_pickle_path  = '/content/drive/MyDrive/DCNN Classifier Models /GoogleNet Classifier/GoogleNet_Model.pickle'\n",
        "# efficientnet_pickle_path   = '/content/drive/MyDrive/DCNN Classifier Models /resnet50_base Classifier/resnet50_base_Model.pickle'"
      ],
      "execution_count": null,
      "outputs": []
    },
    {
      "cell_type": "markdown",
      "metadata": {
        "id": "umQvEJ8hNqxs"
      },
      "source": [
        "# **Saving the Accuracy and Loss To A Pickle File**"
      ]
    },
    {
      "cell_type": "code",
      "metadata": {
        "id": "aGvDV7DyW4Ls",
        "outputId": "410c6ca0-8201-4d22-97e5-47622bc6a025",
        "colab": {
          "base_uri": "https://localhost:8080/"
        }
      },
      "source": [
        "'''\n",
        "The model cannot path cannot be directly used to retrieve the history thats\n",
        "why we are saving the respective model history to a pickle file \n",
        "\n",
        "return : None\n",
        "\n",
        "params : model_history and path of pickle file \n",
        "'''\n",
        "import pickle \n",
        "def save_file(pickle_dir,model_history):\n",
        "  with open(pickle_dir,'wb') as binary_pickle:\n",
        "    binary_pickle.write(pickle.dumps(model_history)) #dumping to pickle before writing to pickle file !\n",
        "    print(f'History Saved to {pickle_dir}')\n",
        "\n",
        "save_file(model_pickle_path,trained_model.history) #the path of the model history pickle and the current model history !"
      ],
      "execution_count": null,
      "outputs": [
        {
          "output_type": "stream",
          "name": "stdout",
          "text": [
            "History Saved to /content/drive/MyDrive/DCNN Classifier Models /Test Classifier/Test Classifier_Model.pickle\n"
          ]
        }
      ]
    },
    {
      "cell_type": "markdown",
      "metadata": {
        "id": "AKqlawEa-J0E"
      },
      "source": [
        "# **Accuracy and Loss Graph !**"
      ]
    },
    {
      "cell_type": "code",
      "metadata": {
        "id": "_8dEYa0P-JQY",
        "colab": {
          "base_uri": "https://localhost:8080/",
          "height": 608
        },
        "outputId": "e263f983-559c-4a4c-abcf-6f846cc47c52"
      },
      "source": [
        "'''\n",
        "The accuracy and the losses at each iteration/epoch is evaluated in the graph below\n",
        "matplotlib is used for plotting.\n",
        "\n",
        "return:None\n",
        "\n",
        "params:model history path\n",
        "'''\n",
        "def plot_metrics(acc_path):\n",
        "  with open(acc_path,'rb') as model_history: #opening the pickle file which contains the dictionary !\n",
        "    model=model_history.read()\n",
        "  model=pickle.loads(model)\n",
        "  plt.plot(model['accuracy'])\n",
        "  plt.plot(model['val_accuracy'])\n",
        "  plt.title('model_accuracy')\n",
        "  plt.ylabel('accuracy')\n",
        "  plt.xlabel('epoch')\n",
        "  plt.legend(['train','test'],loc='lower left')\n",
        "  plt.show()\n",
        "\n",
        "  plt.plot(model['loss'])\n",
        "  plt.plot(model['val_loss'])\n",
        "  plt.title('model_loss')\n",
        "  plt.ylabel('loss')\n",
        "  plt.xlabel('epoch')\n",
        "  plt.legend(['train','val loss'],loc='lower left')\n",
        "  plt.show()\n",
        "  train_acc = model['accuracy'][-1]*100\n",
        "  val_acc   = model['val_accuracy'][-1]*100\n",
        "  print(f'Training Accuracy : {round(train_acc,2)} %')\n",
        "  print(f'Validation Accuracy : {round(val_acc,2)} %')\n",
        "\n",
        "plot_metrics(googlenet_pickle_path)\n"
      ],
      "execution_count": null,
      "outputs": [
        {
          "output_type": "display_data",
          "data": {
            "text/plain": [
              "<Figure size 432x288 with 1 Axes>"
            ],
            "image/png": "[encoded data removed]"
          },
          "metadata": {
            "needs_background": "light"
          }
        },
        {
          "output_type": "display_data",
          "data": {
            "text/plain": [
              "<Figure size 432x288 with 1 Axes>"
            ],
            "image/png": "[encoded data removed]"
          },
          "metadata": {
            "needs_background": "light"
          }
        },
        {
          "output_type": "stream",
          "name": "stdout",
          "text": [
            "Training Accuracy : 100.0 %\n",
            "Validation Accuracy : 50.0 %\n"
          ]
        }
      ]
    },
    {
      "cell_type": "markdown",
      "metadata": {
        "id": "29RIUA9QhvRW"
      },
      "source": [
        "# **Getting The Prediction Values From The Models**"
      ]
    },
    {
      "cell_type": "code",
      "metadata": {
        "id": "6jaER7Xn5u0F"
      },
      "source": [
        "import keras.utils as image\n",
        "def get_preds(model,image_path):\n",
        "  size = (224,224)      #default set to 224 x 224 for simplicity !\n",
        "  if model == 'AlexNet':\n",
        "    model,size = alexnet_path,model_dict['AlexNet']\n",
        "  elif model == 'Binary':\n",
        "    model,size = model_path,model_dict['Binary']\n",
        "  elif model == 'resnet50_base':\n",
        "    model = resnet50_base_path\n",
        "  elif model == 'GoogleNet':\n",
        "    model = googlenet_path\n",
        "  elif model == 'VGG':\n",
        "    model = vggnet_path\n",
        "  else:\n",
        "    raise Exception('Invalid Model Arguments !')             #exception thrown for invalid path !\n",
        "\n",
        "  model = keras.models.load_model(model)                     #loading the model.h5 from the drive !\n",
        "  img   = tf.keras.utils.load_img(image_path, target_size=size)       # loading the image in 300x300 diemensions(227x227x3 for AlexNet)\n",
        "  img   = image.img_to_array(img)\n",
        "  img   = np.expand_dims(img, axis=0)                        #expanding along one axis \n",
        "  result_vector = model.predict(img).round(1)\n",
        "  return result_vector[0]"
      ],
      "execution_count": null,
      "outputs": []
    },
    {
      "cell_type": "markdown",
      "metadata": {
        "id": "DX4eLxWFN4CD"
      },
      "source": [
        "# Obtaining the Prediced values and Actual Values"
      ]
    },
    {
      "cell_type": "code",
      "metadata": {
        "id": "_ikNBk-S6iFL"
      },
      "source": [
        "y_preds = [get_preds('resnet50_base',x) for x in tests]\n",
        "y_true = test_images_datagen.classes\n",
        "class_labels = list(test_images_datagen.class_indices.keys())"
      ],
      "execution_count": null,
      "outputs": []
    },
    {
      "cell_type": "markdown",
      "metadata": {
        "id": "SsPLPfYqXlJ1"
      },
      "source": [
        "#**Testing for Cancer vs Normal**"
      ]
    },
    {
      "cell_type": "code",
      "metadata": {
        "id": "r9hAShN3yULC",
        "colab": {
          "base_uri": "https://localhost:8080/"
        },
        "outputId": "93358784-860b-4ccf-ead4-f2dd6728d8bc"
      },
      "source": [
        "'''\n",
        "The final module of the system which basically predicts whether given cell is a blast or normal cell,\n",
        "based on the image and the prediction model file ! First of all, the model decides which model to call based\n",
        "on the falg you give, then the size is set to 300x300,227x277 respectively for Binary and AlexNet and the\n",
        "default size is 224x244.\n",
        "\n",
        "return: Blast or Not \n",
        " \n",
        "params: path to the model and the path to the image !\n",
        "'''\n",
        "import numpy as np\n",
        "def check_for_cancer(model,image_path):                 \n",
        "  result_vector = get_preds(model,image_path).tolist()  \n",
        "  c_array = {0:'ALL', 1:'AML', 2:'CLL', 3:'CML', 4:'Normal'}\n",
        "  index = result_vector.index(max(result_vector))                \n",
        "  return c_array[index]\n",
        "\n",
        "\n",
        "model  = 'VGG'\n",
        "print(f'Prediction Based on the {model} Classifier !')\n",
        "print(check_for_cancer(model,'/content/drive/MyDrive/DCNN Datasets/Testing/Normal/Im202_0.tif'))\n"
      ],
      "execution_count": null,
      "outputs": [
        {
          "output_type": "stream",
          "name": "stdout",
          "text": [
            "Prediction Based on the VGG Classifier !\n",
            "1/1 [==============================] - 8s 8s/step\n",
            "Normal\n"
          ]
        }
      ]
    },
    {
      "cell_type": "markdown",
      "metadata": {
        "id": "caCnVM8FOBh7"
      },
      "source": [
        "# Path to store the Test Accuracy"
      ]
    },
    {
      "cell_type": "code",
      "metadata": {
        "id": "TitqEKz9nhWV"
      },
      "source": [
        "model_acc_pickle_path    = '/content/drive/MyDrive/DCNN Classifier Models /Test Classifier/Test Classifier_Model.pickle'\n",
        "alexnet_acc_pickle_path  = '/content/drive/MyDrive/DCNN Classifier Models /AlexNet Classifier/AlexNet_Classifier_Model_Acc.pickle'\n",
        "resnet50_base_acc_pickle_path   = '/content/drive/MyDrive/DCNN Classifier Models /resnet50_base Classifier/resnet50_base_custom_model.pickle'\n",
        "vggnet_acc_pickle_path   = '/content/drive/MyDrive/DCNN Classifier Models /VGGNet Classifier/VGGNet_Model_Acc.pickle'\n",
        "googlenet_acc_pickle_path  = '/content/drive/MyDrive/DCNN Classifier Models /GoogleNet Classifier/GoogleNet_Model_acc.pickle'"
      ],
      "execution_count": null,
      "outputs": []
    },
    {
      "cell_type": "markdown",
      "metadata": {
        "id": "kgto-0NzLjgb"
      },
      "source": [
        "# **Save Testing Accuracy To Pickle File**"
      ]
    },
    {
      "cell_type": "code",
      "metadata": {
        "id": "QoLOpSkUzKd0"
      },
      "source": [
        "'''\n",
        "The optional block of code only run if the accuracy is to be calculated !\n",
        "\n",
        "return: None\n",
        "\n",
        "params: model_path, test_generator, pickle_file path\n",
        "\n",
        "'''\n",
        "\n",
        "def get_accuracy(model_path:str,test_datagen,pickle_file:str)->None:\n",
        "  model = keras.models.load_model(model_path)\n",
        "  loss,accuracy = model.evaluate(test_datagen,batch_size = 128)\n",
        "  with open(pickle_file,'wb') as binary_pickle:\n",
        "    binary_pickle.write(pickle.dumps((loss,accuracy))) #dumping to pickle before writing to pickle file !\n",
        "    print(f'Accuracy Saved to {pickle_file}')\n",
        "\n",
        "get_accuracy(model_path,test_images_datagen,model_acc_pickle_path)"
      ],
      "execution_count": null,
      "outputs": []
    },
    {
      "cell_type": "markdown",
      "metadata": {
        "id": "ggbfLA4e0n9k"
      },
      "source": [
        "# **Retrieve Accuracy From Pickle File**"
      ]
    },
    {
      "cell_type": "code",
      "metadata": {
        "id": "dX0-qeet_NAe"
      },
      "source": [
        "'''\n",
        "The model accuracy is originally stored in the drive folder for the sake of simplicity, we refer the \n",
        "pickle file path and fetch accuarcy info of the respective model and print their accuracy\n",
        "\n",
        "return:None\n",
        "\n",
        "params:accuracy_path\n",
        "'''\n",
        "def show_accuracy(model:str,acc_path:str)->None:\n",
        "  with open(acc_path,'rb') as pickle_file:\n",
        "    bin = pickle.loads(pickle_file.read()) \n",
        "    \n",
        "    acc = round((bin[1]),3)*100\n",
        "    print(f'Accuracy for {model}  : {acc}%')"
      ],
      "execution_count": null,
      "outputs": []
    },
    {
      "cell_type": "code",
      "metadata": {
        "colab": {
          "base_uri": "https://localhost:8080/",
          "height": 304
        },
        "id": "8XQ9p6myJLso",
        "outputId": "f2883e45-4d55-488a-8e19-f1c623615bd6"
      },
      "source": [
        "show_accuracy('resnet50_base',resnet50_base_acc_pickle_path)"
      ],
      "execution_count": null,
      "outputs": [
        {
          "output_type": "error",
          "ename": "FileNotFoundError",
          "evalue": "ignored",
          "traceback": [
            "\u001b[0;31m---------------------------------------------------------------------------\u001b[0m",
            "\u001b[0;31mFileNotFoundError\u001b[0m                         Traceback (most recent call last)",
            "\u001b[0;32m<ipython-input-5-0fc9e2f095ab>\u001b[0m in \u001b[0;36m<module>\u001b[0;34m\u001b[0m\n\u001b[0;32m----> 1\u001b[0;31m \u001b[0mshow_accuracy\u001b[0m\u001b[0;34m(\u001b[0m\u001b[0;34m'ResNet'\u001b[0m\u001b[0;34m,\u001b[0m\u001b[0mresnet_acc_pickle_path\u001b[0m\u001b[0;34m)\u001b[0m\u001b[0;34m\u001b[0m\u001b[0;34m\u001b[0m\u001b[0m\n\u001b[0m",
            "\u001b[0;32m<ipython-input-2-73ba2b1727d0>\u001b[0m in \u001b[0;36mshow_accuracy\u001b[0;34m(model, acc_path)\u001b[0m\n\u001b[1;32m      8\u001b[0m '''\n\u001b[1;32m      9\u001b[0m \u001b[0;32mdef\u001b[0m \u001b[0mshow_accuracy\u001b[0m\u001b[0;34m(\u001b[0m\u001b[0mmodel\u001b[0m\u001b[0;34m:\u001b[0m\u001b[0mstr\u001b[0m\u001b[0;34m,\u001b[0m\u001b[0macc_path\u001b[0m\u001b[0;34m:\u001b[0m\u001b[0mstr\u001b[0m\u001b[0;34m)\u001b[0m\u001b[0;34m->\u001b[0m\u001b[0;32mNone\u001b[0m\u001b[0;34m:\u001b[0m\u001b[0;34m\u001b[0m\u001b[0;34m\u001b[0m\u001b[0m\n\u001b[0;32m---> 10\u001b[0;31m   \u001b[0;32mwith\u001b[0m \u001b[0mopen\u001b[0m\u001b[0;34m(\u001b[0m\u001b[0macc_path\u001b[0m\u001b[0;34m,\u001b[0m\u001b[0;34m'rb'\u001b[0m\u001b[0;34m)\u001b[0m \u001b[0;32mas\u001b[0m \u001b[0mpickle_file\u001b[0m\u001b[0;34m:\u001b[0m\u001b[0;34m\u001b[0m\u001b[0;34m\u001b[0m\u001b[0m\n\u001b[0m\u001b[1;32m     11\u001b[0m     \u001b[0mbin\u001b[0m \u001b[0;34m=\u001b[0m \u001b[0mpickle\u001b[0m\u001b[0;34m.\u001b[0m\u001b[0mloads\u001b[0m\u001b[0;34m(\u001b[0m\u001b[0mpickle_file\u001b[0m\u001b[0;34m.\u001b[0m\u001b[0mread\u001b[0m\u001b[0;34m(\u001b[0m\u001b[0;34m)\u001b[0m\u001b[0;34m)\u001b[0m\u001b[0;34m\u001b[0m\u001b[0;34m\u001b[0m\u001b[0m\n\u001b[1;32m     12\u001b[0m \u001b[0;34m\u001b[0m\u001b[0m\n",
            "\u001b[0;31mFileNotFoundError\u001b[0m: [Errno 2] No such file or directory: '/content/drive/MyDrive/DCNN Classifier Models /ResNet Classifier/ResNet_Test_Model.pickle'"
          ]
        }
      ]
    }
  ]
}